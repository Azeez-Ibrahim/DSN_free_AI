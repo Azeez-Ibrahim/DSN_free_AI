{
  "nbformat": 4,
  "nbformat_minor": 0,
  "metadata": {
    "colab": {
      "name": "forth_submission_hack.ipynb",
      "provenance": [],
      "collapsed_sections": [],
      "toc_visible": true,
      "mount_file_id": "1_FnGWewAKMH4JdcBU-T4u3v_9VypT1Oj",
      "authorship_tag": "ABX9TyPoQBLOvnohJTbiHhJNZL+l",
      "include_colab_link": true
    },
    "kernelspec": {
      "name": "python3",
      "display_name": "Python 3"
    },
    "language_info": {
      "name": "python"
    },
    "accelerator": "GPU"
  },
  "cells": [
    {
      "cell_type": "markdown",
      "metadata": {
        "id": "view-in-github",
        "colab_type": "text"
      },
      "source": [
        "<a href=\"https://colab.research.google.com/github/Azeez-Ibrahim/DSN_free_AI/blob/main/forth_submission_hack.ipynb\" target=\"_parent\"><img src=\"https://colab.research.google.com/assets/colab-badge.svg\" alt=\"Open In Colab\"/></a>"
      ]
    },
    {
      "cell_type": "code",
      "execution_count": null,
      "metadata": {
        "id": "USnnMPsMtXL3"
      },
      "outputs": [],
      "source": [
        "import pandas as pd\n",
        "import numpy as np\n",
        "\n",
        "import matplotlib.pyplot as plt\n",
        "import seaborn\n",
        "\n",
        "import sklearn\n",
        "from sklearn.model_selection import train_test_split\n",
        "from sklearn.linear_model import LogisticRegression"
      ]
    },
    {
      "cell_type": "markdown",
      "source": [
        "# Loading the dataset"
      ],
      "metadata": {
        "id": "BPSSBYGYvBHz"
      }
    },
    {
      "cell_type": "code",
      "source": [
        "rem_thousand_sep_and_cast_to_float = lambda x: pd.np.int(x.replace(\",\", \"\"))\n",
        "train = pd.read_csv(\"/content/drive/MyDrive/free-ai-classes-in-every-city-hackathon/Train.csv\")\n",
        "test = pd.read_csv(\"/content/drive/MyDrive/free-ai-classes-in-every-city-hackathon/Test.csv\")"
      ],
      "metadata": {
        "id": "UY5Q5PQPtmse"
      },
      "execution_count": null,
      "outputs": []
    },
    {
      "cell_type": "code",
      "source": [
        "train.head()"
      ],
      "metadata": {
        "colab": {
          "base_uri": "https://localhost:8080/",
          "height": 206
        },
        "id": "hvcGGSFVvT9f",
        "outputId": "158342a1-74b7-4247-fcad-e87966b0dc41"
      },
      "execution_count": null,
      "outputs": [
        {
          "output_type": "execute_result",
          "data": {
            "text/plain": [
              "  VehicleID Location          Maker                Model   Year  Colour  \\\n",
              "0  VHL12546    Abuja          Honda  Accord Coupe EX V-6  2,011  Silver   \n",
              "1  VHL18827   Ibadan        Hyundai               Sonata  2,012  Silver   \n",
              "2  VHL19499    Lagos          Lexus               RX 350  2,010     Red   \n",
              "3  VHL17991    Abuja  Mercedes-Benz            GLE-Class  2,017    Blue   \n",
              "4  VHL12170   Ibadan         Toyota           Highlander  2,002     Red   \n",
              "\n",
              "   Amount (Million Naira)           Type Distance  \n",
              "0                     2.2  Nigerian Used      NaN  \n",
              "1                     3.5  Nigerian Used  125,000  \n",
              "2                     9.2   Foreign Used  110,852  \n",
              "3                    22.8   Foreign Used   30,000  \n",
              "4                     2.6  Nigerian Used  125,206  "
            ],
            "text/html": [
              "\n",
              "  <div id=\"df-05639b1e-abb9-4de4-9fb0-8f4a6d1b0104\">\n",
              "    <div class=\"colab-df-container\">\n",
              "      <div>\n",
              "<style scoped>\n",
              "    .dataframe tbody tr th:only-of-type {\n",
              "        vertical-align: middle;\n",
              "    }\n",
              "\n",
              "    .dataframe tbody tr th {\n",
              "        vertical-align: top;\n",
              "    }\n",
              "\n",
              "    .dataframe thead th {\n",
              "        text-align: right;\n",
              "    }\n",
              "</style>\n",
              "<table border=\"1\" class=\"dataframe\">\n",
              "  <thead>\n",
              "    <tr style=\"text-align: right;\">\n",
              "      <th></th>\n",
              "      <th>VehicleID</th>\n",
              "      <th>Location</th>\n",
              "      <th>Maker</th>\n",
              "      <th>Model</th>\n",
              "      <th>Year</th>\n",
              "      <th>Colour</th>\n",
              "      <th>Amount (Million Naira)</th>\n",
              "      <th>Type</th>\n",
              "      <th>Distance</th>\n",
              "    </tr>\n",
              "  </thead>\n",
              "  <tbody>\n",
              "    <tr>\n",
              "      <th>0</th>\n",
              "      <td>VHL12546</td>\n",
              "      <td>Abuja</td>\n",
              "      <td>Honda</td>\n",
              "      <td>Accord Coupe EX V-6</td>\n",
              "      <td>2,011</td>\n",
              "      <td>Silver</td>\n",
              "      <td>2.2</td>\n",
              "      <td>Nigerian Used</td>\n",
              "      <td>NaN</td>\n",
              "    </tr>\n",
              "    <tr>\n",
              "      <th>1</th>\n",
              "      <td>VHL18827</td>\n",
              "      <td>Ibadan</td>\n",
              "      <td>Hyundai</td>\n",
              "      <td>Sonata</td>\n",
              "      <td>2,012</td>\n",
              "      <td>Silver</td>\n",
              "      <td>3.5</td>\n",
              "      <td>Nigerian Used</td>\n",
              "      <td>125,000</td>\n",
              "    </tr>\n",
              "    <tr>\n",
              "      <th>2</th>\n",
              "      <td>VHL19499</td>\n",
              "      <td>Lagos</td>\n",
              "      <td>Lexus</td>\n",
              "      <td>RX 350</td>\n",
              "      <td>2,010</td>\n",
              "      <td>Red</td>\n",
              "      <td>9.2</td>\n",
              "      <td>Foreign Used</td>\n",
              "      <td>110,852</td>\n",
              "    </tr>\n",
              "    <tr>\n",
              "      <th>3</th>\n",
              "      <td>VHL17991</td>\n",
              "      <td>Abuja</td>\n",
              "      <td>Mercedes-Benz</td>\n",
              "      <td>GLE-Class</td>\n",
              "      <td>2,017</td>\n",
              "      <td>Blue</td>\n",
              "      <td>22.8</td>\n",
              "      <td>Foreign Used</td>\n",
              "      <td>30,000</td>\n",
              "    </tr>\n",
              "    <tr>\n",
              "      <th>4</th>\n",
              "      <td>VHL12170</td>\n",
              "      <td>Ibadan</td>\n",
              "      <td>Toyota</td>\n",
              "      <td>Highlander</td>\n",
              "      <td>2,002</td>\n",
              "      <td>Red</td>\n",
              "      <td>2.6</td>\n",
              "      <td>Nigerian Used</td>\n",
              "      <td>125,206</td>\n",
              "    </tr>\n",
              "  </tbody>\n",
              "</table>\n",
              "</div>\n",
              "      <button class=\"colab-df-convert\" onclick=\"convertToInteractive('df-05639b1e-abb9-4de4-9fb0-8f4a6d1b0104')\"\n",
              "              title=\"Convert this dataframe to an interactive table.\"\n",
              "              style=\"display:none;\">\n",
              "        \n",
              "  <svg xmlns=\"http://www.w3.org/2000/svg\" height=\"24px\"viewBox=\"0 0 24 24\"\n",
              "       width=\"24px\">\n",
              "    <path d=\"M0 0h24v24H0V0z\" fill=\"none\"/>\n",
              "    <path d=\"M18.56 5.44l.94 2.06.94-2.06 2.06-.94-2.06-.94-.94-2.06-.94 2.06-2.06.94zm-11 1L8.5 8.5l.94-2.06 2.06-.94-2.06-.94L8.5 2.5l-.94 2.06-2.06.94zm10 10l.94 2.06.94-2.06 2.06-.94-2.06-.94-.94-2.06-.94 2.06-2.06.94z\"/><path d=\"M17.41 7.96l-1.37-1.37c-.4-.4-.92-.59-1.43-.59-.52 0-1.04.2-1.43.59L10.3 9.45l-7.72 7.72c-.78.78-.78 2.05 0 2.83L4 21.41c.39.39.9.59 1.41.59.51 0 1.02-.2 1.41-.59l7.78-7.78 2.81-2.81c.8-.78.8-2.07 0-2.86zM5.41 20L4 18.59l7.72-7.72 1.47 1.35L5.41 20z\"/>\n",
              "  </svg>\n",
              "      </button>\n",
              "      \n",
              "  <style>\n",
              "    .colab-df-container {\n",
              "      display:flex;\n",
              "      flex-wrap:wrap;\n",
              "      gap: 12px;\n",
              "    }\n",
              "\n",
              "    .colab-df-convert {\n",
              "      background-color: #E8F0FE;\n",
              "      border: none;\n",
              "      border-radius: 50%;\n",
              "      cursor: pointer;\n",
              "      display: none;\n",
              "      fill: #1967D2;\n",
              "      height: 32px;\n",
              "      padding: 0 0 0 0;\n",
              "      width: 32px;\n",
              "    }\n",
              "\n",
              "    .colab-df-convert:hover {\n",
              "      background-color: #E2EBFA;\n",
              "      box-shadow: 0px 1px 2px rgba(60, 64, 67, 0.3), 0px 1px 3px 1px rgba(60, 64, 67, 0.15);\n",
              "      fill: #174EA6;\n",
              "    }\n",
              "\n",
              "    [theme=dark] .colab-df-convert {\n",
              "      background-color: #3B4455;\n",
              "      fill: #D2E3FC;\n",
              "    }\n",
              "\n",
              "    [theme=dark] .colab-df-convert:hover {\n",
              "      background-color: #434B5C;\n",
              "      box-shadow: 0px 1px 3px 1px rgba(0, 0, 0, 0.15);\n",
              "      filter: drop-shadow(0px 1px 2px rgba(0, 0, 0, 0.3));\n",
              "      fill: #FFFFFF;\n",
              "    }\n",
              "  </style>\n",
              "\n",
              "      <script>\n",
              "        const buttonEl =\n",
              "          document.querySelector('#df-05639b1e-abb9-4de4-9fb0-8f4a6d1b0104 button.colab-df-convert');\n",
              "        buttonEl.style.display =\n",
              "          google.colab.kernel.accessAllowed ? 'block' : 'none';\n",
              "\n",
              "        async function convertToInteractive(key) {\n",
              "          const element = document.querySelector('#df-05639b1e-abb9-4de4-9fb0-8f4a6d1b0104');\n",
              "          const dataTable =\n",
              "            await google.colab.kernel.invokeFunction('convertToInteractive',\n",
              "                                                     [key], {});\n",
              "          if (!dataTable) return;\n",
              "\n",
              "          const docLinkHtml = 'Like what you see? Visit the ' +\n",
              "            '<a target=\"_blank\" href=https://colab.research.google.com/notebooks/data_table.ipynb>data table notebook</a>'\n",
              "            + ' to learn more about interactive tables.';\n",
              "          element.innerHTML = '';\n",
              "          dataTable['output_type'] = 'display_data';\n",
              "          await google.colab.output.renderOutput(dataTable, element);\n",
              "          const docLink = document.createElement('div');\n",
              "          docLink.innerHTML = docLinkHtml;\n",
              "          element.appendChild(docLink);\n",
              "        }\n",
              "      </script>\n",
              "    </div>\n",
              "  </div>\n",
              "  "
            ]
          },
          "metadata": {},
          "execution_count": 477
        }
      ]
    },
    {
      "cell_type": "code",
      "source": [
        "test.head()\n"
      ],
      "metadata": {
        "colab": {
          "base_uri": "https://localhost:8080/",
          "height": 206
        },
        "id": "MqXZ7efI_Ms7",
        "outputId": "506f1bd8-8eda-4676-aa9e-f7432e305b5e"
      },
      "execution_count": null,
      "outputs": [
        {
          "output_type": "execute_result",
          "data": {
            "text/plain": [
              "  VehicleID Location   Maker                  Model   Year Colour  \\\n",
              "0  VHL18518    Abuja     BMW                   323i  2,008  White   \n",
              "1  VHL17149    Lagos  Toyota                  Camry  2,013  White   \n",
              "2  VHL10927    Lagos  Toyota  Highlander Limited V6  2,005   Gold   \n",
              "3  VHL12909    Lagos  Toyota                  Camry  2,011   Gray   \n",
              "4  VHL12348    Lagos   Lexus             ES 350 FWD  2,013    Red   \n",
              "\n",
              "           Type  Distance  \n",
              "0  Foreign Used   30524.0  \n",
              "1  Foreign Used       NaN  \n",
              "2  Foreign Used       NaN  \n",
              "3  Foreign Used  166839.0  \n",
              "4  Foreign Used   88862.0  "
            ],
            "text/html": [
              "\n",
              "  <div id=\"df-2636cecd-a2a2-4b86-80d5-e1d9bdd5c23c\">\n",
              "    <div class=\"colab-df-container\">\n",
              "      <div>\n",
              "<style scoped>\n",
              "    .dataframe tbody tr th:only-of-type {\n",
              "        vertical-align: middle;\n",
              "    }\n",
              "\n",
              "    .dataframe tbody tr th {\n",
              "        vertical-align: top;\n",
              "    }\n",
              "\n",
              "    .dataframe thead th {\n",
              "        text-align: right;\n",
              "    }\n",
              "</style>\n",
              "<table border=\"1\" class=\"dataframe\">\n",
              "  <thead>\n",
              "    <tr style=\"text-align: right;\">\n",
              "      <th></th>\n",
              "      <th>VehicleID</th>\n",
              "      <th>Location</th>\n",
              "      <th>Maker</th>\n",
              "      <th>Model</th>\n",
              "      <th>Year</th>\n",
              "      <th>Colour</th>\n",
              "      <th>Type</th>\n",
              "      <th>Distance</th>\n",
              "    </tr>\n",
              "  </thead>\n",
              "  <tbody>\n",
              "    <tr>\n",
              "      <th>0</th>\n",
              "      <td>VHL18518</td>\n",
              "      <td>Abuja</td>\n",
              "      <td>BMW</td>\n",
              "      <td>323i</td>\n",
              "      <td>2,008</td>\n",
              "      <td>White</td>\n",
              "      <td>Foreign Used</td>\n",
              "      <td>30524.0</td>\n",
              "    </tr>\n",
              "    <tr>\n",
              "      <th>1</th>\n",
              "      <td>VHL17149</td>\n",
              "      <td>Lagos</td>\n",
              "      <td>Toyota</td>\n",
              "      <td>Camry</td>\n",
              "      <td>2,013</td>\n",
              "      <td>White</td>\n",
              "      <td>Foreign Used</td>\n",
              "      <td>NaN</td>\n",
              "    </tr>\n",
              "    <tr>\n",
              "      <th>2</th>\n",
              "      <td>VHL10927</td>\n",
              "      <td>Lagos</td>\n",
              "      <td>Toyota</td>\n",
              "      <td>Highlander Limited V6</td>\n",
              "      <td>2,005</td>\n",
              "      <td>Gold</td>\n",
              "      <td>Foreign Used</td>\n",
              "      <td>NaN</td>\n",
              "    </tr>\n",
              "    <tr>\n",
              "      <th>3</th>\n",
              "      <td>VHL12909</td>\n",
              "      <td>Lagos</td>\n",
              "      <td>Toyota</td>\n",
              "      <td>Camry</td>\n",
              "      <td>2,011</td>\n",
              "      <td>Gray</td>\n",
              "      <td>Foreign Used</td>\n",
              "      <td>166839.0</td>\n",
              "    </tr>\n",
              "    <tr>\n",
              "      <th>4</th>\n",
              "      <td>VHL12348</td>\n",
              "      <td>Lagos</td>\n",
              "      <td>Lexus</td>\n",
              "      <td>ES 350 FWD</td>\n",
              "      <td>2,013</td>\n",
              "      <td>Red</td>\n",
              "      <td>Foreign Used</td>\n",
              "      <td>88862.0</td>\n",
              "    </tr>\n",
              "  </tbody>\n",
              "</table>\n",
              "</div>\n",
              "      <button class=\"colab-df-convert\" onclick=\"convertToInteractive('df-2636cecd-a2a2-4b86-80d5-e1d9bdd5c23c')\"\n",
              "              title=\"Convert this dataframe to an interactive table.\"\n",
              "              style=\"display:none;\">\n",
              "        \n",
              "  <svg xmlns=\"http://www.w3.org/2000/svg\" height=\"24px\"viewBox=\"0 0 24 24\"\n",
              "       width=\"24px\">\n",
              "    <path d=\"M0 0h24v24H0V0z\" fill=\"none\"/>\n",
              "    <path d=\"M18.56 5.44l.94 2.06.94-2.06 2.06-.94-2.06-.94-.94-2.06-.94 2.06-2.06.94zm-11 1L8.5 8.5l.94-2.06 2.06-.94-2.06-.94L8.5 2.5l-.94 2.06-2.06.94zm10 10l.94 2.06.94-2.06 2.06-.94-2.06-.94-.94-2.06-.94 2.06-2.06.94z\"/><path d=\"M17.41 7.96l-1.37-1.37c-.4-.4-.92-.59-1.43-.59-.52 0-1.04.2-1.43.59L10.3 9.45l-7.72 7.72c-.78.78-.78 2.05 0 2.83L4 21.41c.39.39.9.59 1.41.59.51 0 1.02-.2 1.41-.59l7.78-7.78 2.81-2.81c.8-.78.8-2.07 0-2.86zM5.41 20L4 18.59l7.72-7.72 1.47 1.35L5.41 20z\"/>\n",
              "  </svg>\n",
              "      </button>\n",
              "      \n",
              "  <style>\n",
              "    .colab-df-container {\n",
              "      display:flex;\n",
              "      flex-wrap:wrap;\n",
              "      gap: 12px;\n",
              "    }\n",
              "\n",
              "    .colab-df-convert {\n",
              "      background-color: #E8F0FE;\n",
              "      border: none;\n",
              "      border-radius: 50%;\n",
              "      cursor: pointer;\n",
              "      display: none;\n",
              "      fill: #1967D2;\n",
              "      height: 32px;\n",
              "      padding: 0 0 0 0;\n",
              "      width: 32px;\n",
              "    }\n",
              "\n",
              "    .colab-df-convert:hover {\n",
              "      background-color: #E2EBFA;\n",
              "      box-shadow: 0px 1px 2px rgba(60, 64, 67, 0.3), 0px 1px 3px 1px rgba(60, 64, 67, 0.15);\n",
              "      fill: #174EA6;\n",
              "    }\n",
              "\n",
              "    [theme=dark] .colab-df-convert {\n",
              "      background-color: #3B4455;\n",
              "      fill: #D2E3FC;\n",
              "    }\n",
              "\n",
              "    [theme=dark] .colab-df-convert:hover {\n",
              "      background-color: #434B5C;\n",
              "      box-shadow: 0px 1px 3px 1px rgba(0, 0, 0, 0.15);\n",
              "      filter: drop-shadow(0px 1px 2px rgba(0, 0, 0, 0.3));\n",
              "      fill: #FFFFFF;\n",
              "    }\n",
              "  </style>\n",
              "\n",
              "      <script>\n",
              "        const buttonEl =\n",
              "          document.querySelector('#df-2636cecd-a2a2-4b86-80d5-e1d9bdd5c23c button.colab-df-convert');\n",
              "        buttonEl.style.display =\n",
              "          google.colab.kernel.accessAllowed ? 'block' : 'none';\n",
              "\n",
              "        async function convertToInteractive(key) {\n",
              "          const element = document.querySelector('#df-2636cecd-a2a2-4b86-80d5-e1d9bdd5c23c');\n",
              "          const dataTable =\n",
              "            await google.colab.kernel.invokeFunction('convertToInteractive',\n",
              "                                                     [key], {});\n",
              "          if (!dataTable) return;\n",
              "\n",
              "          const docLinkHtml = 'Like what you see? Visit the ' +\n",
              "            '<a target=\"_blank\" href=https://colab.research.google.com/notebooks/data_table.ipynb>data table notebook</a>'\n",
              "            + ' to learn more about interactive tables.';\n",
              "          element.innerHTML = '';\n",
              "          dataTable['output_type'] = 'display_data';\n",
              "          await google.colab.output.renderOutput(dataTable, element);\n",
              "          const docLink = document.createElement('div');\n",
              "          docLink.innerHTML = docLinkHtml;\n",
              "          element.appendChild(docLink);\n",
              "        }\n",
              "      </script>\n",
              "    </div>\n",
              "  </div>\n",
              "  "
            ]
          },
          "metadata": {},
          "execution_count": 478
        }
      ]
    },
    {
      "cell_type": "code",
      "source": [
        "train.shape ,test.shape"
      ],
      "metadata": {
        "colab": {
          "base_uri": "https://localhost:8080/"
        },
        "id": "ocXnfrgrveDJ",
        "outputId": "963b12e1-9043-4fdb-f4cf-5604e5c0eef1"
      },
      "execution_count": null,
      "outputs": [
        {
          "output_type": "execute_result",
          "data": {
            "text/plain": [
              "((7205, 9), (2061, 8))"
            ]
          },
          "metadata": {},
          "execution_count": 479
        }
      ]
    },
    {
      "cell_type": "code",
      "source": [
        "train.columns"
      ],
      "metadata": {
        "colab": {
          "base_uri": "https://localhost:8080/"
        },
        "id": "_iAvlcxRvf5I",
        "outputId": "6c5f3c9d-6e8b-4baa-c9cf-4409a45ec195"
      },
      "execution_count": null,
      "outputs": [
        {
          "output_type": "execute_result",
          "data": {
            "text/plain": [
              "Index(['VehicleID', 'Location', 'Maker', 'Model', 'Year', 'Colour',\n",
              "       'Amount (Million Naira)', 'Type', 'Distance'],\n",
              "      dtype='object')"
            ]
          },
          "metadata": {},
          "execution_count": 480
        }
      ]
    },
    {
      "cell_type": "code",
      "source": [
        "test.columns"
      ],
      "metadata": {
        "colab": {
          "base_uri": "https://localhost:8080/"
        },
        "id": "5WmaJCUL_5Gi",
        "outputId": "e8ef23ec-9d69-412f-d552-ce82692dbfb8"
      },
      "execution_count": null,
      "outputs": [
        {
          "output_type": "execute_result",
          "data": {
            "text/plain": [
              "Index(['VehicleID', 'Location', 'Maker', 'Model', 'Year', 'Colour', 'Type',\n",
              "       'Distance'],\n",
              "      dtype='object')"
            ]
          },
          "metadata": {},
          "execution_count": 481
        }
      ]
    },
    {
      "cell_type": "code",
      "source": [
        "train.info()"
      ],
      "metadata": {
        "colab": {
          "base_uri": "https://localhost:8080/"
        },
        "id": "W91OvHA8yIFm",
        "outputId": "692740bc-4756-4b4a-faa5-048c88f1ad81"
      },
      "execution_count": null,
      "outputs": [
        {
          "output_type": "stream",
          "name": "stdout",
          "text": [
            "<class 'pandas.core.frame.DataFrame'>\n",
            "RangeIndex: 7205 entries, 0 to 7204\n",
            "Data columns (total 9 columns):\n",
            " #   Column                  Non-Null Count  Dtype  \n",
            "---  ------                  --------------  -----  \n",
            " 0   VehicleID               7205 non-null   object \n",
            " 1   Location                7205 non-null   object \n",
            " 2   Maker                   7205 non-null   object \n",
            " 3   Model                   7205 non-null   object \n",
            " 4   Year                    7184 non-null   object \n",
            " 5   Colour                  7205 non-null   object \n",
            " 6   Amount (Million Naira)  7188 non-null   float64\n",
            " 7   Type                    7008 non-null   object \n",
            " 8   Distance                4845 non-null   object \n",
            "dtypes: float64(1), object(8)\n",
            "memory usage: 506.7+ KB\n"
          ]
        }
      ]
    },
    {
      "cell_type": "code",
      "source": [
        "train.info()"
      ],
      "metadata": {
        "colab": {
          "base_uri": "https://localhost:8080/"
        },
        "id": "RDGPLJIp_7n1",
        "outputId": "4b22b1a6-7536-4091-f133-efabf79991ef"
      },
      "execution_count": null,
      "outputs": [
        {
          "output_type": "stream",
          "name": "stdout",
          "text": [
            "<class 'pandas.core.frame.DataFrame'>\n",
            "RangeIndex: 7205 entries, 0 to 7204\n",
            "Data columns (total 9 columns):\n",
            " #   Column                  Non-Null Count  Dtype  \n",
            "---  ------                  --------------  -----  \n",
            " 0   VehicleID               7205 non-null   object \n",
            " 1   Location                7205 non-null   object \n",
            " 2   Maker                   7205 non-null   object \n",
            " 3   Model                   7205 non-null   object \n",
            " 4   Year                    7184 non-null   object \n",
            " 5   Colour                  7205 non-null   object \n",
            " 6   Amount (Million Naira)  7188 non-null   float64\n",
            " 7   Type                    7008 non-null   object \n",
            " 8   Distance                4845 non-null   object \n",
            "dtypes: float64(1), object(8)\n",
            "memory usage: 506.7+ KB\n"
          ]
        }
      ]
    },
    {
      "cell_type": "code",
      "source": [
        "train.drop('VehicleID', axis=1, inplace=True)"
      ],
      "metadata": {
        "id": "ZJQSN3oIvpkU"
      },
      "execution_count": null,
      "outputs": []
    },
    {
      "cell_type": "code",
      "source": [
        "test.drop('VehicleID', axis=1, inplace=True)"
      ],
      "metadata": {
        "id": "pDcfS-WBAB0G"
      },
      "execution_count": null,
      "outputs": []
    },
    {
      "cell_type": "markdown",
      "source": [
        "# Unique"
      ],
      "metadata": {
        "id": "0g7tFscaxaec"
      }
    },
    {
      "cell_type": "code",
      "source": [
        "# The main of this section is to rename the different \n",
        "# class in our categorigal feature that were not properly named.\n",
        "# or chanage the data type of a column\n",
        "\n",
        "cat_features = {'Location', 'Maker', 'Model', 'Year', 'Colour', 'Type','Distance'}\n",
        "\n",
        "for cat_feature in cat_features:\n",
        "  print(cat_feature, train[cat_feature].unique(), sep=\":\")\n",
        "  print(\"#\"*50)"
      ],
      "metadata": {
        "colab": {
          "base_uri": "https://localhost:8080/"
        },
        "id": "fdLZzcMpxSUz",
        "outputId": "65e61e8e-fb16-4163-e0b2-591226e5b032"
      },
      "execution_count": null,
      "outputs": [
        {
          "output_type": "stream",
          "name": "stdout",
          "text": [
            "Model:['Accord Coupe EX V-6' 'Sonata' 'RX 350' ... 'Almera 1.6 Lux'\n",
            " 'X5 3.0i Sports Activity' '320i SV Premium']\n",
            "##################################################\n",
            "Location:['Abuja' 'Ibadan' 'Lagos']\n",
            "##################################################\n",
            "Type:['Nigerian Used' 'Foreign Used' 'Brand New' nan]\n",
            "##################################################\n",
            "Maker:['Honda' 'Hyundai' 'Lexus' 'Mercedes-Benz' 'Toyota' 'Acura' 'Dodge'\n",
            " 'Nissan' 'Kia' 'BMW' 'Volvo' 'Ford' 'Land Rover' 'Lincoln' 'Peugeot'\n",
            " 'Chevrolet' 'Audi' 'Jaguar' 'Infiniti' 'Porsche' 'Fiat' 'Maserati'\n",
            " 'Volkswagen' 'Suzuki' 'Bentley' 'GAC' 'Mazda' 'Scion' 'Renault'\n",
            " 'Mitsubishi' 'Mini' 'Pontiac' 'Cadillac' 'Ferrari' 'Jeep' 'Buick'\n",
            " 'Rolls-Royce' 'GMC' 'Chrysler' 'Lamborghini' 'Citroen' 'King' 'BAW'\n",
            " 'Saturn' 'Tata' 'Opel' 'JAC' 'MG' 'Hummer' 'Subaru' 'Rover' 'Saab'\n",
            " 'Skoda' 'IVM' 'Brabus']\n",
            "##################################################\n",
            "Distance:[nan '125,000' '110,852' ... '114,257' '85,750' '83,308']\n",
            "##################################################\n",
            "Colour:['Silver' 'Red' 'Blue' 'Black' 'Gold' 'White' 'Gray' 'Burgandy' 'Green'\n",
            " 'Violet' 'Brown' 'Yellow' 'Orange' 'Pink' 'Beige' 'Purple' 'Ivory' 'G'\n",
            " 'Teal' 'Mica' 'Pearl']\n",
            "##################################################\n",
            "Year:['2,011' '2,012' '2,010' '2,017' '2,002' '2,019' '2,015' '2,004' '2,003'\n",
            " '2,008' '2,018' '2,020' '2,006' '2,016' '2,014' '2,007' '2,009' '2,005'\n",
            " '2,021' '2,013' '2,000' nan '1,992' '2,001' '1,997' '1,999' '1,993'\n",
            " '1,998' '1,986' '1,996' '2,022' '1,995' '1,979' '1,989']\n",
            "##################################################\n"
          ]
        }
      ]
    },
    {
      "cell_type": "code",
      "source": [
        "# The main of this section is to rename the different \n",
        "# class in our categorigal feature that were not properly named.\n",
        "# or chanage the data type of a column\n",
        "\n",
        "cat_featurez = {'Location', 'Maker', 'Model', 'Year', 'Colour', 'Type','Distance'}\n",
        "\n",
        "for cat_feat in cat_featurez:\n",
        "  print(cat_feat, test[cat_feat].unique(), sep=\":\")\n",
        "  print(\"#\"*50)"
      ],
      "metadata": {
        "colab": {
          "base_uri": "https://localhost:8080/"
        },
        "id": "cIHwX_ayBcKo",
        "outputId": "652ecc47-e344-4e0a-b560-1df3cfcde923"
      },
      "execution_count": null,
      "outputs": [
        {
          "output_type": "stream",
          "name": "stdout",
          "text": [
            "Model:['323i' 'Camry' 'Highlander Limited V6' 'ES 350 FWD' 'GLE-Class'\n",
            " 'Sienna LE 4dr' 'ES 350' 'CR-V' 'RAV4 XLE FWD' 'RX' 'Sequoia'\n",
            " '4-Runner Limited' 'Corolla LE' 'Accord' 'Highlander SE' 'Vibe AWD'\n",
            " 'RX 350 F Sport FWD' 'Creta' 'Range Rover Vogue' 'E320'\n",
            " 'Land Cruiser Prado' 'Sonata' 'Sienna' '4-Runner Limited 4WD' 'C300'\n",
            " 'E350' 'L200 Double Cab 2.5 136hp' 'Avalon XLE Plus (3.5L 6cyl 6A)'\n",
            " '4-Runner' 'RX 330' 'Touareg' 'GX 460 Base' 'GL-Class' 'M Class'\n",
            " 'M Class ML 350 4Matic' 'GLK-Class' 'ES' 'Corolla' 'TLX' 'LX 570 Base'\n",
            " 'Hilux' 'RX 350' 'IS 350' 'Premacy' 'Venza XLE AWD V6' 'RX 350 AWD'\n",
            " 'E300' 'Edge SE 4dr FWD (3.5L 6cyl 6A)' 'Corolla CE' 'Venza AWD' 'Xj'\n",
            " 'Zafira' 'Highlander 3' 'Camry SE FWD (2.5L 4cyl 8AM)' 'X5 3.0i'\n",
            " 'Genesis' 'RVR' 'X3 xDrive30i AWD' 'Highlander XLE V6 4x2 (3.5L 6cyl 6A)'\n",
            " 'RX 300' 'Venza' 'GX 460' 'EX 35' 'S-Class S 63 AMG 4MATIC (W222)'\n",
            " 'C-Class C 350 (S204)' 'Venza V6' 'S-Class' 'Sienna LE AWD'\n",
            " 'Highlander Limited 3.5L 2WD' 'Santa Fe GLS' 'Sharan Automatic'\n",
            " 'MDX Base SH-AWD' 'Kia Sorento' 'Civic LX Sedan'\n",
            " 'Range Rover Sport HSE Lux' 'Santa Fe' 'Corolla 1.4 Advanced'\n",
            " 'Tacoma 4x4 Access Cab' 'CLA-Class' 'LX 570 AWD' 'GX 470 Sport Utility'\n",
            " '407 2 HDi FAP Esplanade' 'X6' 'Explorer' 'GLS-Class GLS550 4Matic'\n",
            " '4-Runner Limited 4x4' 'Avensis 2 Advanced Automatic' 'Hilux SR 4x4'\n",
            " 'Land Cruiser Prado 3 D-4D 3dr' 'Rover LR3 SE' 'Sonata 2.4 Automatic'\n",
            " 'Golf' 'Highlander Limited FWD' 'C-Class C 450 AMG 4MATIC (S205)'\n",
            " 'RAV4 Automatic' 'Land Cruiser Prado 3 190hp' 'GL Class' 'F-150' 'Tacoma'\n",
            " 'RAV4' 'NX' 'LX 570 (5 Seats) AWD' 'Fusion' 'Hilux 2 VVT-i SRX'\n",
            " 'Highlander XLE 4x4 V6 (3.5L 6cyl 8A)' 'GS'\n",
            " 'Tacoma Regular Cab Automatic' 'RX 350 XE 4x4' 'Ix35' '6 Series'\n",
            " 'GLC-Class' 'Outlander' 'GLS-Class GLS350d 4Matic' 'LX' 'Tundra'\n",
            " 'Civic Sedan EX Automatic' 'GLK-Class 350 4MATIC' 'Previa'\n",
            " 'GX 460 Luxury' 'E550' '4-Runner Limited V6 4x4' 'Sienna LE 7 Passenger'\n",
            " 'Highlander' 'IS' 'RX 350 FWD' 'Versa' 'Escape XLS Automatic'\n",
            " 'Sorento 3.3L SXL FWD' 'Accord Automatic' 'Land Cruiser 5.7 V8 VXR'\n",
            " 'Highlander 3.5L 4WD' 'LX 570' 'CR-V 2.4 EX 4x4 Automatic'\n",
            " 'Corolla LE Eco (1.8L 4cyl 2A)' 'RAV4 XLE AWD' 'Vibe' 'Elantra'\n",
            " 'Element EX 4WD' 'Avalon Touring' 'Sienna XLE' 'Highlander Limited' 'GX'\n",
            " 'RAV4 2.4' 'MDX' 'Sunny' 'C350' 'Camaro LS Coupe' 'Avalon' 'Land Cruiser'\n",
            " 'GLS-Class GLS450 4MATIC' 'Shuttle 2.2 2WD' 'Corolla 1.8 VVTL-i TS'\n",
            " 'G-Class G 63 AMG 4MATIC' 'Edge' 'ES 330 Sedan' '508'\n",
            " 'RAV4 XLE AWD (2.5L 4cyl 6A)' 'Cadillac Escalade Matt' 'GL-Class GL 450'\n",
            " 'S-Class S 550' 'CR-V EX AWD' 'Corolla SE (1.8L 4cyl 6M)' 'IS 250'\n",
            " 'Ibiza' 'Sienna XLE Limited FWD' 'Cerato' 'Tacoma Double Cab V6 4WD'\n",
            " 'Elantra GLS Automatic' 'RX 300 4WD' 'Highlander Limited V6 FWD' 'Civic'\n",
            " 'ES 300' 'RC 350 AWD' 'RAV4 2.5 Sport' 'IS 250 AWD Automatic'\n",
            " 'A4 2.0T Premium Quattro' 'RAV4 1.8' 'Venza V6 AWD' 'X6 xDrive35i AWD'\n",
            " 'Matrix' 'S-Class Maybach S 560 (X222)' 'Avalon 3' 'C-Hr XLE FWD'\n",
            " 'Venza Limited AWD V6' 'E63' 'Sentra' 'I8 1.5 Roadster' 'ES 330'\n",
            " 'Civic 1.8 5 Door Automatic' 'Corolla Sedan Automatic'\n",
            " 'RX 350L Luxury AWD' 'Camry XLE V6 (3.5L V6 8A)' 'Cayenne' 'RAV4 2 4x4'\n",
            " 'Camaro' 'Tacoma Double Cab V6 Automatic' 'Tacoma 4x4 Double Cab'\n",
            " 'Passat 2 Sedan' 'Pilot EX 4x2 (3.5L 6cyl 5A)' 'Highlander Base AWD'\n",
            " 'Charger RT' 'Rover Lr3 V6' 'Tacoma Double Cab V6' 'Sportage 2 L 4WD'\n",
            " 'Accord 3.5 EX-L Automatic' 'Tacoma Access Cab'\n",
            " 'Sienna XLE FWD (3.3L V6 5A)' 'CLS 55 AMG' 'Rover Discovery'\n",
            " 'Tribute i 4WD Automatic' 'Accent' 'Highlander Sport' 'Avensis 2 D Verso'\n",
            " 'GX 470' 'Solara 3 Convertible' 'Sienna LE' 'BMW 116i'\n",
            " 'RAV4 2.5 Limited 4x4' 'Camry LE FWD (2.5L 4cyl 8AM)' 'GLK-Class 350'\n",
            " 'Range Rover Evoque Off' 'RX 330 4WD' 'RAV4 Limited V6 4x4' 'QX56'\n",
            " 'Pilot' 'Land Cruiser Prado 2.7' '528i' 'Focus 1.8 TDDi Viva' '3 Series'\n",
            " 'M3' '5' 'Civic 1.6i ES Automatic' 'Tundra Double Cab 4x4 Limited'\n",
            " 'Land Cruiser Prado 4' 'Range Rover Velar P380 SE R-Dynamic 4x4'\n",
            " 'M Class ML 320' 'Pick-Up' 'A5' 'E430' 'CX-9' '330i' 'RAV4 Limited 4x4'\n",
            " 'Odyssey 2.4 Absolute 4WD' 'Rio' 'Rav4' 'Highlander XLE FWD' 'CLS'\n",
            " 'Highlander Limited V6 4x4' 'GL Class GL 450' 'Sienna LE FWD'\n",
            " 'CX-9 Grand Touring' 'Range Rover Sport'\n",
            " 'Land Cruiser Prado 4 V6 Dual VVT-i' 'IS 250 4WD' 'X5'\n",
            " 'Land Cruiser 4.5 V8 VXR' 'MDX SUV 4dr AWD (3.7 6cyl 5A)'\n",
            " 'Corolla 1.6 VVT-i Sol' 'Range Rover' 'Hilux 2 VVT-i' 'NX 200t FWD'\n",
            " '6 Wagon' 'CX-9 Touring AWD' 'Jetta' '328i' 'GS 300 Automatic'\n",
            " 'Pathfinder' 'Ridgeline' 'Hilux 2.8 Diesel' 'Highlander V6'\n",
            " 'Tundra 4x4 SR5 Access Cab' '7 Series' 'C230' 'M Class ML 350 TEC 4Matic'\n",
            " 'R Class' 'Accent SE' 'E-350' 'Accord Sedan EX-L'\n",
            " 'Camry XSE V6 (3.5L V6 8A)' 'IS 350 RWD' 'GLA 250'\n",
            " 'Highlander Limited 3.5l 4WD' 'RX 350 2WD' 'Escape' 'NX 200 FWD' 'TL'\n",
            " 'Hilux SR5+ 4x4' 'Tacoma Access Cab I4 AWD' 'Accord EX V6 Automatic'\n",
            " 'Land Cruiser Prado GX' 'XF Premium' 'RAV4 2.5' 'Veloster' 'G-Class'\n",
            " 'RX 350L 4WD' 'CC' 'RX 400h AWD' '530i' 'Soul' '307' 'RX 350 4WD'\n",
            " 'Veracruz' 'MDX 4dr SUV (3.5L 6cyl 6A)' 'GMC Terrain'\n",
            " 'Camry SE (2.5L 4cyl 8A)' '206 1.4 D' 'Accord Sedan EX Automatic'\n",
            " 'Touran' 'ES 350 Ultra Luxury FWD' 'Venza LE AWD' 'CR-V EX 4WD Automatic'\n",
            " 'Accord 2.4 Exec Automatic' 'Altima' '406' 'RX 350 4x4' 'Sienna CE'\n",
            " 'Edge SE 4dr AWD (2.0L 4cyl 6A)' 'Forte EX'\n",
            " 'Golf 1.6 Comfortline Automatic' 'Sonic LS'\n",
            " 'Pilot EX 4dr SUV (3.5L 6cyl 5A)' 'F-150 FX2' 'RAV4 LE AWD'\n",
            " '6 3.0s Sport Wagon Touring' 'Galaxy 1.9 TDI Trend' 'Avalon XLS'\n",
            " 'Pathfinder Automatic' 'Hilux 2.7 VVT-i 4X4 SRX' 'Duster'\n",
            " 'Sienna LE FWD 8-Passenger' 'Beetle 2 Highline Automatic'\n",
            " 'Tacoma X-Runner V6' 'CR-V EX Automatic' '6' 'X-Trail Automatic' 'C450'\n",
            " 'Avensis' 'Pilot LX 4dr SUV (3.5L 6cyl 5A)' 'NX 200t AWD' 'Xterra SE'\n",
            " 'IS 250 AWD' 'S Class' '626' 'Caliber 1.8' 'Land Cruiser J300 4'\n",
            " 'Range Rover Evoque Pure Plus AWD' 'GX 460 Premium' 'Lincoln Navigator'\n",
            " 'Accord 2.4' 'HiAce' 'Jetta 2.5 SEL' '407 2 Esplanade' 'GLA-Class'\n",
            " 'Crown Royale' 'Accord Crosstour' 'Sienna CE AWD' 'Sienna LE 8 Passenger'\n",
            " 'Venza XLE AWD' 'Land Cruiser Prado 2.7 VVT-i' 'LS 460' 'Taurus'\n",
            " 'Range Rover Velar' 'GLS-Class GLS450 4Matic' 'LS 460 Luxury Sedan'\n",
            " 'Tundra Double Cab' 'Ghibli' 'Gx300' '335i' 'Camry 2.4 LE' 'Focus' '450'\n",
            " 'Passat' 'RX 350 F Sport AWD' 'C400' 'Highlander Limited V6 AWD'\n",
            " 'Caravan' 'ES 350 Crafted Line FWD' 'Sorento' 'Range Rover Evoque Matt'\n",
            " 'Camry 2.3 Hybrid' 'X3' 'C-Hr' 'X-Trail 2.5 4x4' 'Jetta 2.0T Sedan'\n",
            " 'ZDX Base AWD' 'MDX Tech & A-Spec Pkgs SH-AWD' 'Corolla 1.6 VVT-i'\n",
            " 'RAV4 XLE FWD (2.5L 4cyl 6A)' 'Camry Off' 'Accord 2.2 DTEC Estate'\n",
            " 'Land Cruiser Prado 4 I' 'Tacoma Access Cab V6 Automatic'\n",
            " '300 Limited RWD' 'Tacoma SR5' 'A8 4.2 Quattro'\n",
            " '4-Runner SR5 4x4 Premium' '300 Touring RWD 3.5'\n",
            " 'Corolla SE (1.8L 4cyl 2A)' 'Corolla 1.8' 'Camry 2.4 SE'\n",
            " 'Hilux 2.5 D-4d SRX' 'Highlander 4x4' 'Sienna XLE 8 Passenger' 'Ducato'\n",
            " 'Caravan Cargo Van' 'Land Cruiser 5.7 V8' 'X3 xDrive 30i' 'Venza LE FWD'\n",
            " 'E400' 'SC Cabriolet' 'A-Class' 'Corolla LE (1.8L 4cyl 2A)'\n",
            " 'Camry Hybrid' 'Avensis 1.6 VVT-i' 'Accord 2.0i Automatic'\n",
            " 'Rogue S Krom Edition' 'Montero 3.5 AWD' 'S-Class S 450 4MATIC (W221)'\n",
            " 'Camry Automatic' 'Vibe 1.8L' 'A6' 'Impreza' 'X1 xDrive28i AWD'\n",
            " 'Range Rover Evoque' 'GLE-Class Matt' 'Almera' 'Optima' 'Highlander XLE'\n",
            " 'Veloster Automatic' '4-Runner Limited 4X4' 'Rover Freelander' 'MKX'\n",
            " 'Golf GTI 2.0T SE' '406 2 HDi ST' 'GS 300 AWD' 'Vibe Automatic' 'Z4'\n",
            " 'RAV4 V6' 'Cooper' 'xD Base' 'C320' 'Enclave CXL AWD'\n",
            " 'Edge Sport 4dr AWD' 'RAV4 Limited' 'Camry XLE FWD (2.5L 4cyl 8AM)' 'X1'\n",
            " 'Rolls-Royce Cullinan Base' '206' 'Corolla Matt' 'Highlander Limited AWD'\n",
            " 'Previa 2.4 Sol' 'A4' 'Land Cruiser 4.5 V8 GXR' 'TT' 'XC90 4.4 Exec 4WD'\n",
            " 'Liberty' 'Venture' 'Yaris Sedan Automatic' 'CR-V LX AWD' 'Sharan 1.8 T'\n",
            " 'Land Cruiser 4 V6 GX-R' 'Honda CR-V Touring AWD' 'Frontier'\n",
            " 'Zafira 1.8 Automatic' 'E500' 'Hilux 2.7 VVTi 4x4 SRX' 'Odyssey EX-L'\n",
            " 'Hilux SR5 4x4' 'X1 xDrive28i' 'QX80' 'SLK Class'\n",
            " 'Land Cruiser 5.7 V8 VX-S' 'Sienna XLE 7 Passenger' 'F-Pace 25t AWD'\n",
            " 'Cooper S' 'Altima Automatic' 'Venza LE AWD V6' 'Qashqai' 'XC90 3.2'\n",
            " '407 2 ST Comfort' 'Range Rover Velar P380 HSE R-Dynamic 4x4' 'Mkx'\n",
            " 'Vibe 2.4 4WD' 'MKS EcoBoost' 'Solara' 'GLS-Class GLS63 AMG Base'\n",
            " 'Lamborghini Huracan Evo' 'RAV4 3.5 4x4' 'Civic LX Hatchback'\n",
            " 'Santa Fe 2.7 Automatic' 'Corolla Verso 1.8'\n",
            " 'RAV4 LE 4dr SUV (2.5L 4cyl 6A)' 'Highlander Base FWD' 'Odyssey 2.4 4WD'\n",
            " 'Accord Sedan LX' 'Land Rover Discovery' 'Brabus Rocket 900'\n",
            " 'Solara 2.2 Coupe' 'Sentra 2 SL' 'Gs' 'Sienna LE FWD (3.3L V6 5A)'\n",
            " 'Corolla Sedan' 'LX 470 AWD' 'Harrier' 'Escape Off' 'A6 3.2'\n",
            " 'Previa 2.4 GL 7-Seater' 'XJ' 'Land Cruiser 4 V6 GXR' 'Pajero'\n",
            " 'MDX W/Advance Pkg SH-AWD' 'GX 460 Premium Matt' 'ES 350 Luxury'\n",
            " 'Avensis Liftback' '407 2 Automatic' '408' 'S-Class Matt' 'RX 400h'\n",
            " '4-Runner SR5 4x4' 'RAV4 2 VVT-i' 'Beetle 2.5L'\n",
            " 'Corolla XSE (1.8L 4cyl 2A)' '4-Runner Limited V6'\n",
            " 'Pilot EX 4x4 (3.5L 6cyl 5A)' 'A8 L 4.2 Quattro' 'Camry 2.4 SE Automatic'\n",
            " 'RAV4 3.5 Sport 4x4' 'Tundra Automatic' 'Civic EX Sedan' '540i' '407'\n",
            " 'Land Cruiser 4x4' 'CL' 'Beetle' 'RAV4 XLE Premium AWD' 'Camry XLE FWD'\n",
            " 'FR-S 10 Series' 'Pathfinder Platinum 4x4' 'Avalon Limited'\n",
            " 'Land Cruiser 4.6 V8 GXR' 'Caliber 1.8 L SE' 'Accord Sedan EX'\n",
            " 'Matrix Hatchback 1.8 16V AWD' 'Solara 3.3 Convertible'\n",
            " 'LX 570 Three-Row' '230E' 'SLK-Class' 'RX 300 2WD' 'Camry LE FWD'\n",
            " 'Land Cruiser Prado 3 D-4d (190 Hp)' 'Range Rover Velar P340 S 4x4'\n",
            " 'Endeavor SE' 'Escape S 4dr SUV (2.5L 4cyl 6A)' 'Accord 2.4 EX' 'Micra'\n",
            " 'RAV4 LE FWD (2.5L 4cyl 6A)' 'X3 xDrive28i' 'Tacoma PreRunner'\n",
            " '6 2.5i Sport' 'C180' 'Titan' '4-Runner SR5' 'HS 250h' 'Tucson'\n",
            " 'Avalon XLS Buckets' 'ES 330 Off' 'TL Automatic' 'RAV4 Limited V6'\n",
            " 'BMW 7 Series' 'Accord 2.4 Executive' 'RX 330 AWD' 'Malibu LS'\n",
            " 'RX 350 F SPORT AWD' '6 2 MZR Automatic' 'Cube 1.8 S CVT'\n",
            " '4-Runner Trail' 'C250' 'Accord Coupe 3.5 EX-L V6' 'Highlander Sport 4x4'\n",
            " '308 CC 1.6' 'Land Cruiser Prado GXL' 'Q7' 'Tacoma TRD Off Road'\n",
            " 'Charger' 'Q5' 'IS 350 AWD' 'Torrent']\n",
            "##################################################\n",
            "Location:['Abuja' 'Lagos' 'Ibadan']\n",
            "##################################################\n",
            "Type:['Foreign Used' 'Nigerian Used' 'Brand New' nan]\n",
            "##################################################\n",
            "Maker:['BMW' 'Toyota' 'Lexus' 'Mercedes-Benz' 'Honda' 'Pontiac' 'Hyundai'\n",
            " 'Land Rover' 'Mitsubishi' 'Volkswagen' 'Acura' 'Mazda' 'Ford' 'Jaguar'\n",
            " 'Opel' 'Infiniti' 'Kia' 'Peugeot' 'Nissan' 'Chevrolet' 'Cadillac' 'Seat'\n",
            " 'Audi' 'Porsche' 'Dodge' 'GMC' 'Renault' 'Lincoln' 'Maserati' 'Chrysler'\n",
            " 'Fiat' 'Subaru' 'Mini' 'Scion' 'Buick' 'Rolls-Royce' 'Volvo' 'Jeep'\n",
            " 'Lamborghini' 'Brabus']\n",
            "##################################################\n",
            "Distance:[ 30524.     nan 166839. ...   2650.  52485. 124088.]\n",
            "##################################################\n",
            "Colour:['White' 'Gold' 'Gray' 'Red' 'Black' 'Blue' 'Silver' 'Brown' 'Green'\n",
            " 'Purple' 'Beige' 'Burgandy' 'Auto' 'Cream' 'Pink' 'Yellow' 'V' 'Teal']\n",
            "##################################################\n",
            "Year:['2,008' '2,013' '2,005' '2,011' '2,017' '1,999' '2,019' '2,006' '2,015'\n",
            " '2,007' '2,012' '2,016' '2,010' '2,003' '2,004' '2,021' nan '2,018'\n",
            " '2,014' '2,009' '2,001' '2,022' '2,002' '2,020' '1,997' '2,000' '1,998'\n",
            " '1,986' '1,991' '1,982']\n",
            "##################################################\n"
          ]
        }
      ]
    },
    {
      "cell_type": "markdown",
      "source": [
        "# Check for missing values"
      ],
      "metadata": {
        "id": "VXvJ3DQKvxff"
      }
    },
    {
      "cell_type": "code",
      "source": [
        "train.isnull().sum()"
      ],
      "metadata": {
        "colab": {
          "base_uri": "https://localhost:8080/"
        },
        "id": "k5t9lFQQvzl_",
        "outputId": "64039b43-bc28-4140-b9bd-780d524bb433"
      },
      "execution_count": null,
      "outputs": [
        {
          "output_type": "execute_result",
          "data": {
            "text/plain": [
              "Location                     0\n",
              "Maker                        0\n",
              "Model                        0\n",
              "Year                        21\n",
              "Colour                       0\n",
              "Amount (Million Naira)      17\n",
              "Type                       197\n",
              "Distance                  2360\n",
              "dtype: int64"
            ]
          },
          "metadata": {},
          "execution_count": 488
        }
      ]
    },
    {
      "cell_type": "code",
      "source": [
        "test.isnull().sum()"
      ],
      "metadata": {
        "colab": {
          "base_uri": "https://localhost:8080/"
        },
        "id": "9tIR-OA9AH0X",
        "outputId": "6b7f9133-4825-4ae9-e799-188fe6dd8a4b"
      },
      "execution_count": null,
      "outputs": [
        {
          "output_type": "execute_result",
          "data": {
            "text/plain": [
              "Location      0\n",
              "Maker         0\n",
              "Model         0\n",
              "Year          2\n",
              "Colour        0\n",
              "Type         54\n",
              "Distance    676\n",
              "dtype: int64"
            ]
          },
          "metadata": {},
          "execution_count": 489
        }
      ]
    },
    {
      "cell_type": "markdown",
      "source": [
        "# Fill N/A VALUES"
      ],
      "metadata": {
        "id": "oT1ukJqKwR0u"
      }
    },
    {
      "cell_type": "code",
      "source": [
        "mode_value_Type = train[\"Type\"].mode()[0]\n",
        "train[\"Type\"].fillna(mode_value_Type, inplace=True)"
      ],
      "metadata": {
        "id": "xcf1eoJ0wTmq"
      },
      "execution_count": null,
      "outputs": []
    },
    {
      "cell_type": "code",
      "source": [
        "mode_value_Type_test = test[\"Type\"].mode()[0]\n",
        "test[\"Type\"].fillna(mode_value_Type_test, inplace=True)"
      ],
      "metadata": {
        "id": "vFPuzCdvANc7"
      },
      "execution_count": null,
      "outputs": []
    },
    {
      "cell_type": "code",
      "source": [
        "#train.Distance.unique()"
      ],
      "metadata": {
        "id": "61KdQB_kDrlU"
      },
      "execution_count": null,
      "outputs": []
    },
    {
      "cell_type": "code",
      "source": [
        "#train[\"Distance\"].fillna(1, inplace=True)"
      ],
      "metadata": {
        "id": "yFYAjyzizh7R"
      },
      "execution_count": null,
      "outputs": []
    },
    {
      "cell_type": "code",
      "source": [
        "#train.isnull().sum()"
      ],
      "metadata": {
        "id": "8YiJYbj806ti"
      },
      "execution_count": null,
      "outputs": []
    },
    {
      "cell_type": "code",
      "source": [
        "train.head()"
      ],
      "metadata": {
        "colab": {
          "base_uri": "https://localhost:8080/",
          "height": 206
        },
        "id": "PhHz15Rw1yZ0",
        "outputId": "b9c27423-3bb7-4d0a-8d81-2fbd2d16be32"
      },
      "execution_count": null,
      "outputs": [
        {
          "output_type": "execute_result",
          "data": {
            "text/plain": [
              "  Location          Maker                Model   Year  Colour  \\\n",
              "0    Abuja          Honda  Accord Coupe EX V-6  2,011  Silver   \n",
              "1   Ibadan        Hyundai               Sonata  2,012  Silver   \n",
              "2    Lagos          Lexus               RX 350  2,010     Red   \n",
              "3    Abuja  Mercedes-Benz            GLE-Class  2,017    Blue   \n",
              "4   Ibadan         Toyota           Highlander  2,002     Red   \n",
              "\n",
              "   Amount (Million Naira)           Type Distance  \n",
              "0                     2.2  Nigerian Used      NaN  \n",
              "1                     3.5  Nigerian Used  125,000  \n",
              "2                     9.2   Foreign Used  110,852  \n",
              "3                    22.8   Foreign Used   30,000  \n",
              "4                     2.6  Nigerian Used  125,206  "
            ],
            "text/html": [
              "\n",
              "  <div id=\"df-f02832f7-304b-4ff4-b745-7b92194328f0\">\n",
              "    <div class=\"colab-df-container\">\n",
              "      <div>\n",
              "<style scoped>\n",
              "    .dataframe tbody tr th:only-of-type {\n",
              "        vertical-align: middle;\n",
              "    }\n",
              "\n",
              "    .dataframe tbody tr th {\n",
              "        vertical-align: top;\n",
              "    }\n",
              "\n",
              "    .dataframe thead th {\n",
              "        text-align: right;\n",
              "    }\n",
              "</style>\n",
              "<table border=\"1\" class=\"dataframe\">\n",
              "  <thead>\n",
              "    <tr style=\"text-align: right;\">\n",
              "      <th></th>\n",
              "      <th>Location</th>\n",
              "      <th>Maker</th>\n",
              "      <th>Model</th>\n",
              "      <th>Year</th>\n",
              "      <th>Colour</th>\n",
              "      <th>Amount (Million Naira)</th>\n",
              "      <th>Type</th>\n",
              "      <th>Distance</th>\n",
              "    </tr>\n",
              "  </thead>\n",
              "  <tbody>\n",
              "    <tr>\n",
              "      <th>0</th>\n",
              "      <td>Abuja</td>\n",
              "      <td>Honda</td>\n",
              "      <td>Accord Coupe EX V-6</td>\n",
              "      <td>2,011</td>\n",
              "      <td>Silver</td>\n",
              "      <td>2.2</td>\n",
              "      <td>Nigerian Used</td>\n",
              "      <td>NaN</td>\n",
              "    </tr>\n",
              "    <tr>\n",
              "      <th>1</th>\n",
              "      <td>Ibadan</td>\n",
              "      <td>Hyundai</td>\n",
              "      <td>Sonata</td>\n",
              "      <td>2,012</td>\n",
              "      <td>Silver</td>\n",
              "      <td>3.5</td>\n",
              "      <td>Nigerian Used</td>\n",
              "      <td>125,000</td>\n",
              "    </tr>\n",
              "    <tr>\n",
              "      <th>2</th>\n",
              "      <td>Lagos</td>\n",
              "      <td>Lexus</td>\n",
              "      <td>RX 350</td>\n",
              "      <td>2,010</td>\n",
              "      <td>Red</td>\n",
              "      <td>9.2</td>\n",
              "      <td>Foreign Used</td>\n",
              "      <td>110,852</td>\n",
              "    </tr>\n",
              "    <tr>\n",
              "      <th>3</th>\n",
              "      <td>Abuja</td>\n",
              "      <td>Mercedes-Benz</td>\n",
              "      <td>GLE-Class</td>\n",
              "      <td>2,017</td>\n",
              "      <td>Blue</td>\n",
              "      <td>22.8</td>\n",
              "      <td>Foreign Used</td>\n",
              "      <td>30,000</td>\n",
              "    </tr>\n",
              "    <tr>\n",
              "      <th>4</th>\n",
              "      <td>Ibadan</td>\n",
              "      <td>Toyota</td>\n",
              "      <td>Highlander</td>\n",
              "      <td>2,002</td>\n",
              "      <td>Red</td>\n",
              "      <td>2.6</td>\n",
              "      <td>Nigerian Used</td>\n",
              "      <td>125,206</td>\n",
              "    </tr>\n",
              "  </tbody>\n",
              "</table>\n",
              "</div>\n",
              "      <button class=\"colab-df-convert\" onclick=\"convertToInteractive('df-f02832f7-304b-4ff4-b745-7b92194328f0')\"\n",
              "              title=\"Convert this dataframe to an interactive table.\"\n",
              "              style=\"display:none;\">\n",
              "        \n",
              "  <svg xmlns=\"http://www.w3.org/2000/svg\" height=\"24px\"viewBox=\"0 0 24 24\"\n",
              "       width=\"24px\">\n",
              "    <path d=\"M0 0h24v24H0V0z\" fill=\"none\"/>\n",
              "    <path d=\"M18.56 5.44l.94 2.06.94-2.06 2.06-.94-2.06-.94-.94-2.06-.94 2.06-2.06.94zm-11 1L8.5 8.5l.94-2.06 2.06-.94-2.06-.94L8.5 2.5l-.94 2.06-2.06.94zm10 10l.94 2.06.94-2.06 2.06-.94-2.06-.94-.94-2.06-.94 2.06-2.06.94z\"/><path d=\"M17.41 7.96l-1.37-1.37c-.4-.4-.92-.59-1.43-.59-.52 0-1.04.2-1.43.59L10.3 9.45l-7.72 7.72c-.78.78-.78 2.05 0 2.83L4 21.41c.39.39.9.59 1.41.59.51 0 1.02-.2 1.41-.59l7.78-7.78 2.81-2.81c.8-.78.8-2.07 0-2.86zM5.41 20L4 18.59l7.72-7.72 1.47 1.35L5.41 20z\"/>\n",
              "  </svg>\n",
              "      </button>\n",
              "      \n",
              "  <style>\n",
              "    .colab-df-container {\n",
              "      display:flex;\n",
              "      flex-wrap:wrap;\n",
              "      gap: 12px;\n",
              "    }\n",
              "\n",
              "    .colab-df-convert {\n",
              "      background-color: #E8F0FE;\n",
              "      border: none;\n",
              "      border-radius: 50%;\n",
              "      cursor: pointer;\n",
              "      display: none;\n",
              "      fill: #1967D2;\n",
              "      height: 32px;\n",
              "      padding: 0 0 0 0;\n",
              "      width: 32px;\n",
              "    }\n",
              "\n",
              "    .colab-df-convert:hover {\n",
              "      background-color: #E2EBFA;\n",
              "      box-shadow: 0px 1px 2px rgba(60, 64, 67, 0.3), 0px 1px 3px 1px rgba(60, 64, 67, 0.15);\n",
              "      fill: #174EA6;\n",
              "    }\n",
              "\n",
              "    [theme=dark] .colab-df-convert {\n",
              "      background-color: #3B4455;\n",
              "      fill: #D2E3FC;\n",
              "    }\n",
              "\n",
              "    [theme=dark] .colab-df-convert:hover {\n",
              "      background-color: #434B5C;\n",
              "      box-shadow: 0px 1px 3px 1px rgba(0, 0, 0, 0.15);\n",
              "      filter: drop-shadow(0px 1px 2px rgba(0, 0, 0, 0.3));\n",
              "      fill: #FFFFFF;\n",
              "    }\n",
              "  </style>\n",
              "\n",
              "      <script>\n",
              "        const buttonEl =\n",
              "          document.querySelector('#df-f02832f7-304b-4ff4-b745-7b92194328f0 button.colab-df-convert');\n",
              "        buttonEl.style.display =\n",
              "          google.colab.kernel.accessAllowed ? 'block' : 'none';\n",
              "\n",
              "        async function convertToInteractive(key) {\n",
              "          const element = document.querySelector('#df-f02832f7-304b-4ff4-b745-7b92194328f0');\n",
              "          const dataTable =\n",
              "            await google.colab.kernel.invokeFunction('convertToInteractive',\n",
              "                                                     [key], {});\n",
              "          if (!dataTable) return;\n",
              "\n",
              "          const docLinkHtml = 'Like what you see? Visit the ' +\n",
              "            '<a target=\"_blank\" href=https://colab.research.google.com/notebooks/data_table.ipynb>data table notebook</a>'\n",
              "            + ' to learn more about interactive tables.';\n",
              "          element.innerHTML = '';\n",
              "          dataTable['output_type'] = 'display_data';\n",
              "          await google.colab.output.renderOutput(dataTable, element);\n",
              "          const docLink = document.createElement('div');\n",
              "          docLink.innerHTML = docLinkHtml;\n",
              "          element.appendChild(docLink);\n",
              "        }\n",
              "      </script>\n",
              "    </div>\n",
              "  </div>\n",
              "  "
            ]
          },
          "metadata": {},
          "execution_count": 495
        }
      ]
    },
    {
      "cell_type": "code",
      "source": [
        "train.info()"
      ],
      "metadata": {
        "colab": {
          "base_uri": "https://localhost:8080/"
        },
        "id": "XbtfN9ehgeeY",
        "outputId": "95cdf903-d5e6-46af-fb12-54c657e43de9"
      },
      "execution_count": null,
      "outputs": [
        {
          "output_type": "stream",
          "name": "stdout",
          "text": [
            "<class 'pandas.core.frame.DataFrame'>\n",
            "RangeIndex: 7205 entries, 0 to 7204\n",
            "Data columns (total 8 columns):\n",
            " #   Column                  Non-Null Count  Dtype  \n",
            "---  ------                  --------------  -----  \n",
            " 0   Location                7205 non-null   object \n",
            " 1   Maker                   7205 non-null   object \n",
            " 2   Model                   7205 non-null   object \n",
            " 3   Year                    7184 non-null   object \n",
            " 4   Colour                  7205 non-null   object \n",
            " 5   Amount (Million Naira)  7188 non-null   float64\n",
            " 6   Type                    7205 non-null   object \n",
            " 7   Distance                4845 non-null   object \n",
            "dtypes: float64(1), object(7)\n",
            "memory usage: 450.4+ KB\n"
          ]
        }
      ]
    },
    {
      "cell_type": "code",
      "source": [
        "type(train[\"Distance\"][1])"
      ],
      "metadata": {
        "colab": {
          "base_uri": "https://localhost:8080/"
        },
        "id": "cPbAjbBTsC79",
        "outputId": "9bdec987-8fdb-451b-8b2f-3bc758614652"
      },
      "execution_count": null,
      "outputs": [
        {
          "output_type": "execute_result",
          "data": {
            "text/plain": [
              "str"
            ]
          },
          "metadata": {},
          "execution_count": 498
        }
      ]
    },
    {
      "cell_type": "code",
      "source": [
        "def convert(no): \n",
        "    if(no==','): \n",
        "        return 'A'\n",
        "    else: \n",
        "        return no"
      ],
      "metadata": {
        "id": "848qQG9XktN0"
      },
      "execution_count": null,
      "outputs": []
    },
    {
      "cell_type": "code",
      "source": [
        "#train[\"Distance\"] = train[\"Distance\"]"
      ],
      "metadata": {
        "id": "F0QKHfHFjzfG"
      },
      "execution_count": null,
      "outputs": []
    },
    {
      "cell_type": "code",
      "source": [
        "#train[\"Distance\"] = train[\"Distance\"].replace(',','')"
      ],
      "metadata": {
        "id": "SH2z1Pykg8j3"
      },
      "execution_count": null,
      "outputs": []
    },
    {
      "cell_type": "code",
      "source": [
        "train[\"Distance\"].fillna(0, inplace=True)"
      ],
      "metadata": {
        "id": "k2WavVu1pWDs"
      },
      "execution_count": null,
      "outputs": []
    },
    {
      "cell_type": "code",
      "source": [
        "train.head()"
      ],
      "metadata": {
        "colab": {
          "base_uri": "https://localhost:8080/",
          "height": 206
        },
        "id": "Yw90K4VmpZRl",
        "outputId": "c8ccdc11-9694-472e-fff5-d1a25e9e0f42"
      },
      "execution_count": null,
      "outputs": [
        {
          "output_type": "execute_result",
          "data": {
            "text/plain": [
              "  Location          Maker                Model   Year  Colour  \\\n",
              "0    Abuja          Honda  Accord Coupe EX V-6  2,011  Silver   \n",
              "1   Ibadan        Hyundai               Sonata  2,012  Silver   \n",
              "2    Lagos          Lexus               RX 350  2,010     Red   \n",
              "3    Abuja  Mercedes-Benz            GLE-Class  2,017    Blue   \n",
              "4   Ibadan         Toyota           Highlander  2,002     Red   \n",
              "\n",
              "   Amount (Million Naira)           Type Distance  \n",
              "0                     2.2  Nigerian Used        0  \n",
              "1                     3.5  Nigerian Used  125,000  \n",
              "2                     9.2   Foreign Used  110,852  \n",
              "3                    22.8   Foreign Used   30,000  \n",
              "4                     2.6  Nigerian Used  125,206  "
            ],
            "text/html": [
              "\n",
              "  <div id=\"df-dd88eb3e-03c7-4aaa-a033-45608410d8f9\">\n",
              "    <div class=\"colab-df-container\">\n",
              "      <div>\n",
              "<style scoped>\n",
              "    .dataframe tbody tr th:only-of-type {\n",
              "        vertical-align: middle;\n",
              "    }\n",
              "\n",
              "    .dataframe tbody tr th {\n",
              "        vertical-align: top;\n",
              "    }\n",
              "\n",
              "    .dataframe thead th {\n",
              "        text-align: right;\n",
              "    }\n",
              "</style>\n",
              "<table border=\"1\" class=\"dataframe\">\n",
              "  <thead>\n",
              "    <tr style=\"text-align: right;\">\n",
              "      <th></th>\n",
              "      <th>Location</th>\n",
              "      <th>Maker</th>\n",
              "      <th>Model</th>\n",
              "      <th>Year</th>\n",
              "      <th>Colour</th>\n",
              "      <th>Amount (Million Naira)</th>\n",
              "      <th>Type</th>\n",
              "      <th>Distance</th>\n",
              "    </tr>\n",
              "  </thead>\n",
              "  <tbody>\n",
              "    <tr>\n",
              "      <th>0</th>\n",
              "      <td>Abuja</td>\n",
              "      <td>Honda</td>\n",
              "      <td>Accord Coupe EX V-6</td>\n",
              "      <td>2,011</td>\n",
              "      <td>Silver</td>\n",
              "      <td>2.2</td>\n",
              "      <td>Nigerian Used</td>\n",
              "      <td>0</td>\n",
              "    </tr>\n",
              "    <tr>\n",
              "      <th>1</th>\n",
              "      <td>Ibadan</td>\n",
              "      <td>Hyundai</td>\n",
              "      <td>Sonata</td>\n",
              "      <td>2,012</td>\n",
              "      <td>Silver</td>\n",
              "      <td>3.5</td>\n",
              "      <td>Nigerian Used</td>\n",
              "      <td>125,000</td>\n",
              "    </tr>\n",
              "    <tr>\n",
              "      <th>2</th>\n",
              "      <td>Lagos</td>\n",
              "      <td>Lexus</td>\n",
              "      <td>RX 350</td>\n",
              "      <td>2,010</td>\n",
              "      <td>Red</td>\n",
              "      <td>9.2</td>\n",
              "      <td>Foreign Used</td>\n",
              "      <td>110,852</td>\n",
              "    </tr>\n",
              "    <tr>\n",
              "      <th>3</th>\n",
              "      <td>Abuja</td>\n",
              "      <td>Mercedes-Benz</td>\n",
              "      <td>GLE-Class</td>\n",
              "      <td>2,017</td>\n",
              "      <td>Blue</td>\n",
              "      <td>22.8</td>\n",
              "      <td>Foreign Used</td>\n",
              "      <td>30,000</td>\n",
              "    </tr>\n",
              "    <tr>\n",
              "      <th>4</th>\n",
              "      <td>Ibadan</td>\n",
              "      <td>Toyota</td>\n",
              "      <td>Highlander</td>\n",
              "      <td>2,002</td>\n",
              "      <td>Red</td>\n",
              "      <td>2.6</td>\n",
              "      <td>Nigerian Used</td>\n",
              "      <td>125,206</td>\n",
              "    </tr>\n",
              "  </tbody>\n",
              "</table>\n",
              "</div>\n",
              "      <button class=\"colab-df-convert\" onclick=\"convertToInteractive('df-dd88eb3e-03c7-4aaa-a033-45608410d8f9')\"\n",
              "              title=\"Convert this dataframe to an interactive table.\"\n",
              "              style=\"display:none;\">\n",
              "        \n",
              "  <svg xmlns=\"http://www.w3.org/2000/svg\" height=\"24px\"viewBox=\"0 0 24 24\"\n",
              "       width=\"24px\">\n",
              "    <path d=\"M0 0h24v24H0V0z\" fill=\"none\"/>\n",
              "    <path d=\"M18.56 5.44l.94 2.06.94-2.06 2.06-.94-2.06-.94-.94-2.06-.94 2.06-2.06.94zm-11 1L8.5 8.5l.94-2.06 2.06-.94-2.06-.94L8.5 2.5l-.94 2.06-2.06.94zm10 10l.94 2.06.94-2.06 2.06-.94-2.06-.94-.94-2.06-.94 2.06-2.06.94z\"/><path d=\"M17.41 7.96l-1.37-1.37c-.4-.4-.92-.59-1.43-.59-.52 0-1.04.2-1.43.59L10.3 9.45l-7.72 7.72c-.78.78-.78 2.05 0 2.83L4 21.41c.39.39.9.59 1.41.59.51 0 1.02-.2 1.41-.59l7.78-7.78 2.81-2.81c.8-.78.8-2.07 0-2.86zM5.41 20L4 18.59l7.72-7.72 1.47 1.35L5.41 20z\"/>\n",
              "  </svg>\n",
              "      </button>\n",
              "      \n",
              "  <style>\n",
              "    .colab-df-container {\n",
              "      display:flex;\n",
              "      flex-wrap:wrap;\n",
              "      gap: 12px;\n",
              "    }\n",
              "\n",
              "    .colab-df-convert {\n",
              "      background-color: #E8F0FE;\n",
              "      border: none;\n",
              "      border-radius: 50%;\n",
              "      cursor: pointer;\n",
              "      display: none;\n",
              "      fill: #1967D2;\n",
              "      height: 32px;\n",
              "      padding: 0 0 0 0;\n",
              "      width: 32px;\n",
              "    }\n",
              "\n",
              "    .colab-df-convert:hover {\n",
              "      background-color: #E2EBFA;\n",
              "      box-shadow: 0px 1px 2px rgba(60, 64, 67, 0.3), 0px 1px 3px 1px rgba(60, 64, 67, 0.15);\n",
              "      fill: #174EA6;\n",
              "    }\n",
              "\n",
              "    [theme=dark] .colab-df-convert {\n",
              "      background-color: #3B4455;\n",
              "      fill: #D2E3FC;\n",
              "    }\n",
              "\n",
              "    [theme=dark] .colab-df-convert:hover {\n",
              "      background-color: #434B5C;\n",
              "      box-shadow: 0px 1px 3px 1px rgba(0, 0, 0, 0.15);\n",
              "      filter: drop-shadow(0px 1px 2px rgba(0, 0, 0, 0.3));\n",
              "      fill: #FFFFFF;\n",
              "    }\n",
              "  </style>\n",
              "\n",
              "      <script>\n",
              "        const buttonEl =\n",
              "          document.querySelector('#df-dd88eb3e-03c7-4aaa-a033-45608410d8f9 button.colab-df-convert');\n",
              "        buttonEl.style.display =\n",
              "          google.colab.kernel.accessAllowed ? 'block' : 'none';\n",
              "\n",
              "        async function convertToInteractive(key) {\n",
              "          const element = document.querySelector('#df-dd88eb3e-03c7-4aaa-a033-45608410d8f9');\n",
              "          const dataTable =\n",
              "            await google.colab.kernel.invokeFunction('convertToInteractive',\n",
              "                                                     [key], {});\n",
              "          if (!dataTable) return;\n",
              "\n",
              "          const docLinkHtml = 'Like what you see? Visit the ' +\n",
              "            '<a target=\"_blank\" href=https://colab.research.google.com/notebooks/data_table.ipynb>data table notebook</a>'\n",
              "            + ' to learn more about interactive tables.';\n",
              "          element.innerHTML = '';\n",
              "          dataTable['output_type'] = 'display_data';\n",
              "          await google.colab.output.renderOutput(dataTable, element);\n",
              "          const docLink = document.createElement('div');\n",
              "          docLink.innerHTML = docLinkHtml;\n",
              "          element.appendChild(docLink);\n",
              "        }\n",
              "      </script>\n",
              "    </div>\n",
              "  </div>\n",
              "  "
            ]
          },
          "metadata": {},
          "execution_count": 470
        }
      ]
    },
    {
      "cell_type": "code",
      "source": [
        "#train.Distance = [convert(i) for i in train.Distance]"
      ],
      "metadata": {
        "id": "HgxE9izEkNCN"
      },
      "execution_count": null,
      "outputs": []
    },
    {
      "cell_type": "code",
      "source": [
        "#train[\"Distance\"] = train[\"Distance\"].map(lambda x: x.replace(',',''))"
      ],
      "metadata": {
        "colab": {
          "base_uri": "https://localhost:8080/",
          "height": 246
        },
        "id": "8Y9gJPGrePAB",
        "outputId": "a2c3af99-31b9-4faf-9949-5e7711457b06"
      },
      "execution_count": null,
      "outputs": [
        {
          "output_type": "error",
          "ename": "AttributeError",
          "evalue": "ignored",
          "traceback": [
            "\u001b[0;31m---------------------------------------------------------------------------\u001b[0m",
            "\u001b[0;31mAttributeError\u001b[0m                            Traceback (most recent call last)",
            "\u001b[0;32m<ipython-input-162-28a42b7d1f94>\u001b[0m in \u001b[0;36m<module>\u001b[0;34m()\u001b[0m\n\u001b[0;32m----> 1\u001b[0;31m \u001b[0mtrain\u001b[0m\u001b[0;34m[\u001b[0m\u001b[0;34m\"Distance\"\u001b[0m\u001b[0;34m]\u001b[0m \u001b[0;34m=\u001b[0m \u001b[0mtrain\u001b[0m\u001b[0;34m[\u001b[0m\u001b[0;34m\"Distance\"\u001b[0m\u001b[0;34m]\u001b[0m\u001b[0;34m.\u001b[0m\u001b[0mmap\u001b[0m\u001b[0;34m(\u001b[0m\u001b[0;32mlambda\u001b[0m \u001b[0mx\u001b[0m\u001b[0;34m:\u001b[0m \u001b[0mx\u001b[0m\u001b[0;34m.\u001b[0m\u001b[0mreplace\u001b[0m\u001b[0;34m(\u001b[0m\u001b[0;34m','\u001b[0m\u001b[0;34m,\u001b[0m\u001b[0;34m''\u001b[0m\u001b[0;34m)\u001b[0m\u001b[0;34m)\u001b[0m\u001b[0;34m\u001b[0m\u001b[0;34m\u001b[0m\u001b[0m\n\u001b[0m",
            "\u001b[0;32m/usr/local/lib/python3.7/dist-packages/pandas/core/series.py\u001b[0m in \u001b[0;36mmap\u001b[0;34m(self, arg, na_action)\u001b[0m\n\u001b[1;32m   4159\u001b[0m         \u001b[0mdtype\u001b[0m\u001b[0;34m:\u001b[0m \u001b[0mobject\u001b[0m\u001b[0;34m\u001b[0m\u001b[0;34m\u001b[0m\u001b[0m\n\u001b[1;32m   4160\u001b[0m         \"\"\"\n\u001b[0;32m-> 4161\u001b[0;31m         \u001b[0mnew_values\u001b[0m \u001b[0;34m=\u001b[0m \u001b[0msuper\u001b[0m\u001b[0;34m(\u001b[0m\u001b[0;34m)\u001b[0m\u001b[0;34m.\u001b[0m\u001b[0m_map_values\u001b[0m\u001b[0;34m(\u001b[0m\u001b[0marg\u001b[0m\u001b[0;34m,\u001b[0m \u001b[0mna_action\u001b[0m\u001b[0;34m=\u001b[0m\u001b[0mna_action\u001b[0m\u001b[0;34m)\u001b[0m\u001b[0;34m\u001b[0m\u001b[0;34m\u001b[0m\u001b[0m\n\u001b[0m\u001b[1;32m   4162\u001b[0m         return self._constructor(new_values, index=self.index).__finalize__(\n\u001b[1;32m   4163\u001b[0m             \u001b[0mself\u001b[0m\u001b[0;34m,\u001b[0m \u001b[0mmethod\u001b[0m\u001b[0;34m=\u001b[0m\u001b[0;34m\"map\"\u001b[0m\u001b[0;34m\u001b[0m\u001b[0;34m\u001b[0m\u001b[0m\n",
            "\u001b[0;32m/usr/local/lib/python3.7/dist-packages/pandas/core/base.py\u001b[0m in \u001b[0;36m_map_values\u001b[0;34m(self, mapper, na_action)\u001b[0m\n\u001b[1;32m    868\u001b[0m \u001b[0;34m\u001b[0m\u001b[0m\n\u001b[1;32m    869\u001b[0m         \u001b[0;31m# mapper is a function\u001b[0m\u001b[0;34m\u001b[0m\u001b[0;34m\u001b[0m\u001b[0;34m\u001b[0m\u001b[0m\n\u001b[0;32m--> 870\u001b[0;31m         \u001b[0mnew_values\u001b[0m \u001b[0;34m=\u001b[0m \u001b[0mmap_f\u001b[0m\u001b[0;34m(\u001b[0m\u001b[0mvalues\u001b[0m\u001b[0;34m,\u001b[0m \u001b[0mmapper\u001b[0m\u001b[0;34m)\u001b[0m\u001b[0;34m\u001b[0m\u001b[0;34m\u001b[0m\u001b[0m\n\u001b[0m\u001b[1;32m    871\u001b[0m \u001b[0;34m\u001b[0m\u001b[0m\n\u001b[1;32m    872\u001b[0m         \u001b[0;32mreturn\u001b[0m \u001b[0mnew_values\u001b[0m\u001b[0;34m\u001b[0m\u001b[0;34m\u001b[0m\u001b[0m\n",
            "\u001b[0;32m/usr/local/lib/python3.7/dist-packages/pandas/_libs/lib.pyx\u001b[0m in \u001b[0;36mpandas._libs.lib.map_infer\u001b[0;34m()\u001b[0m\n",
            "\u001b[0;32m<ipython-input-162-28a42b7d1f94>\u001b[0m in \u001b[0;36m<lambda>\u001b[0;34m(x)\u001b[0m\n\u001b[0;32m----> 1\u001b[0;31m \u001b[0mtrain\u001b[0m\u001b[0;34m[\u001b[0m\u001b[0;34m\"Distance\"\u001b[0m\u001b[0;34m]\u001b[0m \u001b[0;34m=\u001b[0m \u001b[0mtrain\u001b[0m\u001b[0;34m[\u001b[0m\u001b[0;34m\"Distance\"\u001b[0m\u001b[0;34m]\u001b[0m\u001b[0;34m.\u001b[0m\u001b[0mmap\u001b[0m\u001b[0;34m(\u001b[0m\u001b[0;32mlambda\u001b[0m \u001b[0mx\u001b[0m\u001b[0;34m:\u001b[0m \u001b[0mx\u001b[0m\u001b[0;34m.\u001b[0m\u001b[0mreplace\u001b[0m\u001b[0;34m(\u001b[0m\u001b[0;34m','\u001b[0m\u001b[0;34m,\u001b[0m\u001b[0;34m''\u001b[0m\u001b[0;34m)\u001b[0m\u001b[0;34m)\u001b[0m\u001b[0;34m\u001b[0m\u001b[0;34m\u001b[0m\u001b[0m\n\u001b[0m",
            "\u001b[0;31mAttributeError\u001b[0m: 'int' object has no attribute 'replace'"
          ]
        }
      ]
    },
    {
      "cell_type": "code",
      "source": [
        "#train.Distance = [int(i) for i in train.Distance]"
      ],
      "metadata": {
        "id": "BXlDhjt-yYo9"
      },
      "execution_count": null,
      "outputs": []
    },
    {
      "cell_type": "code",
      "source": [
        "train.Distance.unique()"
      ],
      "metadata": {
        "colab": {
          "base_uri": "https://localhost:8080/"
        },
        "id": "1JTigSav2wyT",
        "outputId": "3718163f-dda7-4c47-ef46-1d51e1b461c0"
      },
      "execution_count": null,
      "outputs": [
        {
          "output_type": "execute_result",
          "data": {
            "text/plain": [
              "array([0, '125,000', '110,852', ..., '114,257', '85,750', '83,308'],\n",
              "      dtype=object)"
            ]
          },
          "metadata": {},
          "execution_count": 474
        }
      ]
    },
    {
      "cell_type": "code",
      "source": [
        "#mean_value_year = train[\"Year\"].mean()\n",
        "#train[\"Year\"].fillna(mean_value_year, inplace=True)"
      ],
      "metadata": {
        "id": "p4FdBVVmwpzn"
      },
      "execution_count": null,
      "outputs": []
    },
    {
      "cell_type": "code",
      "source": [
        "mean_value_D = train[\"Distance\"].mean() #can't work because of ffloat\n",
        "#train[\"Distance\"].fillna(mean_value_D, inplace=True)"
      ],
      "metadata": {
        "id": "pSyGqUlJyacq",
        "colab": {
          "base_uri": "https://localhost:8080/",
          "height": 336
        },
        "outputId": "c0b38446-23ca-4568-c2cf-add8874af71d"
      },
      "execution_count": null,
      "outputs": [
        {
          "output_type": "error",
          "ename": "TypeError",
          "evalue": "ignored",
          "traceback": [
            "\u001b[0;31m---------------------------------------------------------------------------\u001b[0m",
            "\u001b[0;31mTypeError\u001b[0m                                 Traceback (most recent call last)",
            "\u001b[0;32m<ipython-input-473-573c8060f6c0>\u001b[0m in \u001b[0;36m<module>\u001b[0;34m()\u001b[0m\n\u001b[0;32m----> 1\u001b[0;31m \u001b[0mmean_value_D\u001b[0m \u001b[0;34m=\u001b[0m \u001b[0mtrain\u001b[0m\u001b[0;34m[\u001b[0m\u001b[0;34m\"Distance\"\u001b[0m\u001b[0;34m]\u001b[0m\u001b[0;34m.\u001b[0m\u001b[0mmean\u001b[0m\u001b[0;34m(\u001b[0m\u001b[0;34m)\u001b[0m \u001b[0;31m#can't work because of ffloat\u001b[0m\u001b[0;34m\u001b[0m\u001b[0;34m\u001b[0m\u001b[0m\n\u001b[0m\u001b[1;32m      2\u001b[0m \u001b[0;31m#train[\"Distance\"].fillna(mean_value_D, inplace=True)\u001b[0m\u001b[0;34m\u001b[0m\u001b[0;34m\u001b[0m\u001b[0;34m\u001b[0m\u001b[0m\n",
            "\u001b[0;32m/usr/local/lib/python3.7/dist-packages/pandas/core/generic.py\u001b[0m in \u001b[0;36mmean\u001b[0;34m(self, axis, skipna, level, numeric_only, **kwargs)\u001b[0m\n\u001b[1;32m  10749\u001b[0m         )\n\u001b[1;32m  10750\u001b[0m         \u001b[0;32mdef\u001b[0m \u001b[0mmean\u001b[0m\u001b[0;34m(\u001b[0m\u001b[0mself\u001b[0m\u001b[0;34m,\u001b[0m \u001b[0maxis\u001b[0m\u001b[0;34m=\u001b[0m\u001b[0;32mNone\u001b[0m\u001b[0;34m,\u001b[0m \u001b[0mskipna\u001b[0m\u001b[0;34m=\u001b[0m\u001b[0;32mNone\u001b[0m\u001b[0;34m,\u001b[0m \u001b[0mlevel\u001b[0m\u001b[0;34m=\u001b[0m\u001b[0;32mNone\u001b[0m\u001b[0;34m,\u001b[0m \u001b[0mnumeric_only\u001b[0m\u001b[0;34m=\u001b[0m\u001b[0;32mNone\u001b[0m\u001b[0;34m,\u001b[0m \u001b[0;34m**\u001b[0m\u001b[0mkwargs\u001b[0m\u001b[0;34m)\u001b[0m\u001b[0;34m:\u001b[0m\u001b[0;34m\u001b[0m\u001b[0;34m\u001b[0m\u001b[0m\n\u001b[0;32m> 10751\u001b[0;31m             \u001b[0;32mreturn\u001b[0m \u001b[0mNDFrame\u001b[0m\u001b[0;34m.\u001b[0m\u001b[0mmean\u001b[0m\u001b[0;34m(\u001b[0m\u001b[0mself\u001b[0m\u001b[0;34m,\u001b[0m \u001b[0maxis\u001b[0m\u001b[0;34m,\u001b[0m \u001b[0mskipna\u001b[0m\u001b[0;34m,\u001b[0m \u001b[0mlevel\u001b[0m\u001b[0;34m,\u001b[0m \u001b[0mnumeric_only\u001b[0m\u001b[0;34m,\u001b[0m \u001b[0;34m**\u001b[0m\u001b[0mkwargs\u001b[0m\u001b[0;34m)\u001b[0m\u001b[0;34m\u001b[0m\u001b[0;34m\u001b[0m\u001b[0m\n\u001b[0m\u001b[1;32m  10752\u001b[0m \u001b[0;34m\u001b[0m\u001b[0m\n\u001b[1;32m  10753\u001b[0m         \u001b[0msetattr\u001b[0m\u001b[0;34m(\u001b[0m\u001b[0mcls\u001b[0m\u001b[0;34m,\u001b[0m \u001b[0;34m\"mean\"\u001b[0m\u001b[0;34m,\u001b[0m \u001b[0mmean\u001b[0m\u001b[0;34m)\u001b[0m\u001b[0;34m\u001b[0m\u001b[0;34m\u001b[0m\u001b[0m\n",
            "\u001b[0;32m/usr/local/lib/python3.7/dist-packages/pandas/core/generic.py\u001b[0m in \u001b[0;36mmean\u001b[0;34m(self, axis, skipna, level, numeric_only, **kwargs)\u001b[0m\n\u001b[1;32m  10368\u001b[0m     \u001b[0;32mdef\u001b[0m \u001b[0mmean\u001b[0m\u001b[0;34m(\u001b[0m\u001b[0mself\u001b[0m\u001b[0;34m,\u001b[0m \u001b[0maxis\u001b[0m\u001b[0;34m=\u001b[0m\u001b[0;32mNone\u001b[0m\u001b[0;34m,\u001b[0m \u001b[0mskipna\u001b[0m\u001b[0;34m=\u001b[0m\u001b[0;32mNone\u001b[0m\u001b[0;34m,\u001b[0m \u001b[0mlevel\u001b[0m\u001b[0;34m=\u001b[0m\u001b[0;32mNone\u001b[0m\u001b[0;34m,\u001b[0m \u001b[0mnumeric_only\u001b[0m\u001b[0;34m=\u001b[0m\u001b[0;32mNone\u001b[0m\u001b[0;34m,\u001b[0m \u001b[0;34m**\u001b[0m\u001b[0mkwargs\u001b[0m\u001b[0;34m)\u001b[0m\u001b[0;34m:\u001b[0m\u001b[0;34m\u001b[0m\u001b[0;34m\u001b[0m\u001b[0m\n\u001b[1;32m  10369\u001b[0m         return self._stat_function(\n\u001b[0;32m> 10370\u001b[0;31m             \u001b[0;34m\"mean\"\u001b[0m\u001b[0;34m,\u001b[0m \u001b[0mnanops\u001b[0m\u001b[0;34m.\u001b[0m\u001b[0mnanmean\u001b[0m\u001b[0;34m,\u001b[0m \u001b[0maxis\u001b[0m\u001b[0;34m,\u001b[0m \u001b[0mskipna\u001b[0m\u001b[0;34m,\u001b[0m \u001b[0mlevel\u001b[0m\u001b[0;34m,\u001b[0m \u001b[0mnumeric_only\u001b[0m\u001b[0;34m,\u001b[0m \u001b[0;34m**\u001b[0m\u001b[0mkwargs\u001b[0m\u001b[0;34m\u001b[0m\u001b[0;34m\u001b[0m\u001b[0m\n\u001b[0m\u001b[1;32m  10371\u001b[0m         )\n\u001b[1;32m  10372\u001b[0m \u001b[0;34m\u001b[0m\u001b[0m\n",
            "\u001b[0;32m/usr/local/lib/python3.7/dist-packages/pandas/core/generic.py\u001b[0m in \u001b[0;36m_stat_function\u001b[0;34m(self, name, func, axis, skipna, level, numeric_only, **kwargs)\u001b[0m\n\u001b[1;32m  10353\u001b[0m             )\n\u001b[1;32m  10354\u001b[0m         return self._reduce(\n\u001b[0;32m> 10355\u001b[0;31m             \u001b[0mfunc\u001b[0m\u001b[0;34m,\u001b[0m \u001b[0mname\u001b[0m\u001b[0;34m=\u001b[0m\u001b[0mname\u001b[0m\u001b[0;34m,\u001b[0m \u001b[0maxis\u001b[0m\u001b[0;34m=\u001b[0m\u001b[0maxis\u001b[0m\u001b[0;34m,\u001b[0m \u001b[0mskipna\u001b[0m\u001b[0;34m=\u001b[0m\u001b[0mskipna\u001b[0m\u001b[0;34m,\u001b[0m \u001b[0mnumeric_only\u001b[0m\u001b[0;34m=\u001b[0m\u001b[0mnumeric_only\u001b[0m\u001b[0;34m\u001b[0m\u001b[0;34m\u001b[0m\u001b[0m\n\u001b[0m\u001b[1;32m  10356\u001b[0m         )\n\u001b[1;32m  10357\u001b[0m \u001b[0;34m\u001b[0m\u001b[0m\n",
            "\u001b[0;32m/usr/local/lib/python3.7/dist-packages/pandas/core/series.py\u001b[0m in \u001b[0;36m_reduce\u001b[0;34m(self, op, name, axis, skipna, numeric_only, filter_type, **kwds)\u001b[0m\n\u001b[1;32m   4390\u001b[0m                 )\n\u001b[1;32m   4391\u001b[0m             \u001b[0;32mwith\u001b[0m \u001b[0mnp\u001b[0m\u001b[0;34m.\u001b[0m\u001b[0merrstate\u001b[0m\u001b[0;34m(\u001b[0m\u001b[0mall\u001b[0m\u001b[0;34m=\u001b[0m\u001b[0;34m\"ignore\"\u001b[0m\u001b[0;34m)\u001b[0m\u001b[0;34m:\u001b[0m\u001b[0;34m\u001b[0m\u001b[0;34m\u001b[0m\u001b[0m\n\u001b[0;32m-> 4392\u001b[0;31m                 \u001b[0;32mreturn\u001b[0m \u001b[0mop\u001b[0m\u001b[0;34m(\u001b[0m\u001b[0mdelegate\u001b[0m\u001b[0;34m,\u001b[0m \u001b[0mskipna\u001b[0m\u001b[0;34m=\u001b[0m\u001b[0mskipna\u001b[0m\u001b[0;34m,\u001b[0m \u001b[0;34m**\u001b[0m\u001b[0mkwds\u001b[0m\u001b[0;34m)\u001b[0m\u001b[0;34m\u001b[0m\u001b[0;34m\u001b[0m\u001b[0m\n\u001b[0m\u001b[1;32m   4393\u001b[0m \u001b[0;34m\u001b[0m\u001b[0m\n\u001b[1;32m   4394\u001b[0m     def _reindex_indexer(\n",
            "\u001b[0;32m/usr/local/lib/python3.7/dist-packages/pandas/core/nanops.py\u001b[0m in \u001b[0;36m_f\u001b[0;34m(*args, **kwargs)\u001b[0m\n\u001b[1;32m     92\u001b[0m             \u001b[0;32mtry\u001b[0m\u001b[0;34m:\u001b[0m\u001b[0;34m\u001b[0m\u001b[0;34m\u001b[0m\u001b[0m\n\u001b[1;32m     93\u001b[0m                 \u001b[0;32mwith\u001b[0m \u001b[0mnp\u001b[0m\u001b[0;34m.\u001b[0m\u001b[0merrstate\u001b[0m\u001b[0;34m(\u001b[0m\u001b[0minvalid\u001b[0m\u001b[0;34m=\u001b[0m\u001b[0;34m\"ignore\"\u001b[0m\u001b[0;34m)\u001b[0m\u001b[0;34m:\u001b[0m\u001b[0;34m\u001b[0m\u001b[0;34m\u001b[0m\u001b[0m\n\u001b[0;32m---> 94\u001b[0;31m                     \u001b[0;32mreturn\u001b[0m \u001b[0mf\u001b[0m\u001b[0;34m(\u001b[0m\u001b[0;34m*\u001b[0m\u001b[0margs\u001b[0m\u001b[0;34m,\u001b[0m \u001b[0;34m**\u001b[0m\u001b[0mkwargs\u001b[0m\u001b[0;34m)\u001b[0m\u001b[0;34m\u001b[0m\u001b[0;34m\u001b[0m\u001b[0m\n\u001b[0m\u001b[1;32m     95\u001b[0m             \u001b[0;32mexcept\u001b[0m \u001b[0mValueError\u001b[0m \u001b[0;32mas\u001b[0m \u001b[0me\u001b[0m\u001b[0;34m:\u001b[0m\u001b[0;34m\u001b[0m\u001b[0;34m\u001b[0m\u001b[0m\n\u001b[1;32m     96\u001b[0m                 \u001b[0;31m# we want to transform an object array\u001b[0m\u001b[0;34m\u001b[0m\u001b[0;34m\u001b[0m\u001b[0;34m\u001b[0m\u001b[0m\n",
            "\u001b[0;32m/usr/local/lib/python3.7/dist-packages/pandas/core/nanops.py\u001b[0m in \u001b[0;36mf\u001b[0;34m(values, axis, skipna, **kwds)\u001b[0m\n\u001b[1;32m    154\u001b[0m                     \u001b[0mresult\u001b[0m \u001b[0;34m=\u001b[0m \u001b[0malt\u001b[0m\u001b[0;34m(\u001b[0m\u001b[0mvalues\u001b[0m\u001b[0;34m,\u001b[0m \u001b[0maxis\u001b[0m\u001b[0;34m=\u001b[0m\u001b[0maxis\u001b[0m\u001b[0;34m,\u001b[0m \u001b[0mskipna\u001b[0m\u001b[0;34m=\u001b[0m\u001b[0mskipna\u001b[0m\u001b[0;34m,\u001b[0m \u001b[0;34m**\u001b[0m\u001b[0mkwds\u001b[0m\u001b[0;34m)\u001b[0m\u001b[0;34m\u001b[0m\u001b[0;34m\u001b[0m\u001b[0m\n\u001b[1;32m    155\u001b[0m             \u001b[0;32melse\u001b[0m\u001b[0;34m:\u001b[0m\u001b[0;34m\u001b[0m\u001b[0;34m\u001b[0m\u001b[0m\n\u001b[0;32m--> 156\u001b[0;31m                 \u001b[0mresult\u001b[0m \u001b[0;34m=\u001b[0m \u001b[0malt\u001b[0m\u001b[0;34m(\u001b[0m\u001b[0mvalues\u001b[0m\u001b[0;34m,\u001b[0m \u001b[0maxis\u001b[0m\u001b[0;34m=\u001b[0m\u001b[0maxis\u001b[0m\u001b[0;34m,\u001b[0m \u001b[0mskipna\u001b[0m\u001b[0;34m=\u001b[0m\u001b[0mskipna\u001b[0m\u001b[0;34m,\u001b[0m \u001b[0;34m**\u001b[0m\u001b[0mkwds\u001b[0m\u001b[0;34m)\u001b[0m\u001b[0;34m\u001b[0m\u001b[0;34m\u001b[0m\u001b[0m\n\u001b[0m\u001b[1;32m    157\u001b[0m \u001b[0;34m\u001b[0m\u001b[0m\n\u001b[1;32m    158\u001b[0m             \u001b[0;32mreturn\u001b[0m \u001b[0mresult\u001b[0m\u001b[0;34m\u001b[0m\u001b[0;34m\u001b[0m\u001b[0m\n",
            "\u001b[0;32m/usr/local/lib/python3.7/dist-packages/pandas/core/nanops.py\u001b[0m in \u001b[0;36mnew_func\u001b[0;34m(values, axis, skipna, mask, **kwargs)\u001b[0m\n\u001b[1;32m    409\u001b[0m             \u001b[0mmask\u001b[0m \u001b[0;34m=\u001b[0m \u001b[0misna\u001b[0m\u001b[0;34m(\u001b[0m\u001b[0mvalues\u001b[0m\u001b[0;34m)\u001b[0m\u001b[0;34m\u001b[0m\u001b[0;34m\u001b[0m\u001b[0m\n\u001b[1;32m    410\u001b[0m \u001b[0;34m\u001b[0m\u001b[0m\n\u001b[0;32m--> 411\u001b[0;31m         \u001b[0mresult\u001b[0m \u001b[0;34m=\u001b[0m \u001b[0mfunc\u001b[0m\u001b[0;34m(\u001b[0m\u001b[0mvalues\u001b[0m\u001b[0;34m,\u001b[0m \u001b[0maxis\u001b[0m\u001b[0;34m=\u001b[0m\u001b[0maxis\u001b[0m\u001b[0;34m,\u001b[0m \u001b[0mskipna\u001b[0m\u001b[0;34m=\u001b[0m\u001b[0mskipna\u001b[0m\u001b[0;34m,\u001b[0m \u001b[0mmask\u001b[0m\u001b[0;34m=\u001b[0m\u001b[0mmask\u001b[0m\u001b[0;34m,\u001b[0m \u001b[0;34m**\u001b[0m\u001b[0mkwargs\u001b[0m\u001b[0;34m)\u001b[0m\u001b[0;34m\u001b[0m\u001b[0;34m\u001b[0m\u001b[0m\n\u001b[0m\u001b[1;32m    412\u001b[0m \u001b[0;34m\u001b[0m\u001b[0m\n\u001b[1;32m    413\u001b[0m         \u001b[0;32mif\u001b[0m \u001b[0mdatetimelike\u001b[0m\u001b[0;34m:\u001b[0m\u001b[0;34m\u001b[0m\u001b[0;34m\u001b[0m\u001b[0m\n",
            "\u001b[0;32m/usr/local/lib/python3.7/dist-packages/pandas/core/nanops.py\u001b[0m in \u001b[0;36mnanmean\u001b[0;34m(values, axis, skipna, mask)\u001b[0m\n\u001b[1;32m    664\u001b[0m \u001b[0;34m\u001b[0m\u001b[0m\n\u001b[1;32m    665\u001b[0m     \u001b[0mcount\u001b[0m \u001b[0;34m=\u001b[0m \u001b[0m_get_counts\u001b[0m\u001b[0;34m(\u001b[0m\u001b[0mvalues\u001b[0m\u001b[0;34m.\u001b[0m\u001b[0mshape\u001b[0m\u001b[0;34m,\u001b[0m \u001b[0mmask\u001b[0m\u001b[0;34m,\u001b[0m \u001b[0maxis\u001b[0m\u001b[0;34m,\u001b[0m \u001b[0mdtype\u001b[0m\u001b[0;34m=\u001b[0m\u001b[0mdtype_count\u001b[0m\u001b[0;34m)\u001b[0m\u001b[0;34m\u001b[0m\u001b[0;34m\u001b[0m\u001b[0m\n\u001b[0;32m--> 666\u001b[0;31m     \u001b[0mthe_sum\u001b[0m \u001b[0;34m=\u001b[0m \u001b[0m_ensure_numeric\u001b[0m\u001b[0;34m(\u001b[0m\u001b[0mvalues\u001b[0m\u001b[0;34m.\u001b[0m\u001b[0msum\u001b[0m\u001b[0;34m(\u001b[0m\u001b[0maxis\u001b[0m\u001b[0;34m,\u001b[0m \u001b[0mdtype\u001b[0m\u001b[0;34m=\u001b[0m\u001b[0mdtype_sum\u001b[0m\u001b[0;34m)\u001b[0m\u001b[0;34m)\u001b[0m\u001b[0;34m\u001b[0m\u001b[0;34m\u001b[0m\u001b[0m\n\u001b[0m\u001b[1;32m    667\u001b[0m \u001b[0;34m\u001b[0m\u001b[0m\n\u001b[1;32m    668\u001b[0m     \u001b[0;32mif\u001b[0m \u001b[0maxis\u001b[0m \u001b[0;32mis\u001b[0m \u001b[0;32mnot\u001b[0m \u001b[0;32mNone\u001b[0m \u001b[0;32mand\u001b[0m \u001b[0mgetattr\u001b[0m\u001b[0;34m(\u001b[0m\u001b[0mthe_sum\u001b[0m\u001b[0;34m,\u001b[0m \u001b[0;34m\"ndim\"\u001b[0m\u001b[0;34m,\u001b[0m \u001b[0;32mFalse\u001b[0m\u001b[0;34m)\u001b[0m\u001b[0;34m:\u001b[0m\u001b[0;34m\u001b[0m\u001b[0;34m\u001b[0m\u001b[0m\n",
            "\u001b[0;32m/usr/local/lib/python3.7/dist-packages/numpy/core/_methods.py\u001b[0m in \u001b[0;36m_sum\u001b[0;34m(a, axis, dtype, out, keepdims, initial, where)\u001b[0m\n\u001b[1;32m     46\u001b[0m def _sum(a, axis=None, dtype=None, out=None, keepdims=False,\n\u001b[1;32m     47\u001b[0m          initial=_NoValue, where=True):\n\u001b[0;32m---> 48\u001b[0;31m     \u001b[0;32mreturn\u001b[0m \u001b[0mumr_sum\u001b[0m\u001b[0;34m(\u001b[0m\u001b[0ma\u001b[0m\u001b[0;34m,\u001b[0m \u001b[0maxis\u001b[0m\u001b[0;34m,\u001b[0m \u001b[0mdtype\u001b[0m\u001b[0;34m,\u001b[0m \u001b[0mout\u001b[0m\u001b[0;34m,\u001b[0m \u001b[0mkeepdims\u001b[0m\u001b[0;34m,\u001b[0m \u001b[0minitial\u001b[0m\u001b[0;34m,\u001b[0m \u001b[0mwhere\u001b[0m\u001b[0;34m)\u001b[0m\u001b[0;34m\u001b[0m\u001b[0;34m\u001b[0m\u001b[0m\n\u001b[0m\u001b[1;32m     49\u001b[0m \u001b[0;34m\u001b[0m\u001b[0m\n\u001b[1;32m     50\u001b[0m def _prod(a, axis=None, dtype=None, out=None, keepdims=False,\n",
            "\u001b[0;31mTypeError\u001b[0m: unsupported operand type(s) for +: 'int' and 'str'"
          ]
        }
      ]
    },
    {
      "cell_type": "code",
      "source": [
        "#mean_value_D_test = test[\"Distance\"].mean()\n",
        "#test[\"Distance\"].fillna(mean_value_D_test, inplace=True)"
      ],
      "metadata": {
        "id": "YftlPtj0Fe1n"
      },
      "execution_count": null,
      "outputs": []
    },
    {
      "cell_type": "code",
      "source": [
        "#train.drop('Distance', axis=1, inplace=True)"
      ],
      "metadata": {
        "id": "BOvQkMEFE7NF"
      },
      "execution_count": null,
      "outputs": []
    },
    {
      "cell_type": "code",
      "source": [
        "#test.drop('Distance', axis=1, inplace=True)"
      ],
      "metadata": {
        "id": "nGnekgmXE8Ah"
      },
      "execution_count": null,
      "outputs": []
    },
    {
      "cell_type": "code",
      "source": [
        "train.head()"
      ],
      "metadata": {
        "colab": {
          "base_uri": "https://localhost:8080/",
          "height": 206
        },
        "id": "hIT5npeu2j1-",
        "outputId": "92f933fc-2dac-42d4-ac1f-38ee78c72d30"
      },
      "execution_count": null,
      "outputs": [
        {
          "output_type": "execute_result",
          "data": {
            "text/plain": [
              "  Location          Maker                Model   Year  Colour  \\\n",
              "0    Abuja          Honda  Accord Coupe EX V-6  2,011  Silver   \n",
              "1   Ibadan        Hyundai               Sonata  2,012  Silver   \n",
              "2    Lagos          Lexus               RX 350  2,010     Red   \n",
              "3    Abuja  Mercedes-Benz            GLE-Class  2,017    Blue   \n",
              "4   Ibadan         Toyota           Highlander  2,002     Red   \n",
              "\n",
              "   Amount (Million Naira)           Type Distance  \n",
              "0                     2.2  Nigerian Used      NaN  \n",
              "1                     3.5  Nigerian Used  125,000  \n",
              "2                     9.2   Foreign Used  110,852  \n",
              "3                    22.8   Foreign Used   30,000  \n",
              "4                     2.6  Nigerian Used  125,206  "
            ],
            "text/html": [
              "\n",
              "  <div id=\"df-33c70a10-99fd-45f4-83f9-b7cf6c73d6d8\">\n",
              "    <div class=\"colab-df-container\">\n",
              "      <div>\n",
              "<style scoped>\n",
              "    .dataframe tbody tr th:only-of-type {\n",
              "        vertical-align: middle;\n",
              "    }\n",
              "\n",
              "    .dataframe tbody tr th {\n",
              "        vertical-align: top;\n",
              "    }\n",
              "\n",
              "    .dataframe thead th {\n",
              "        text-align: right;\n",
              "    }\n",
              "</style>\n",
              "<table border=\"1\" class=\"dataframe\">\n",
              "  <thead>\n",
              "    <tr style=\"text-align: right;\">\n",
              "      <th></th>\n",
              "      <th>Location</th>\n",
              "      <th>Maker</th>\n",
              "      <th>Model</th>\n",
              "      <th>Year</th>\n",
              "      <th>Colour</th>\n",
              "      <th>Amount (Million Naira)</th>\n",
              "      <th>Type</th>\n",
              "      <th>Distance</th>\n",
              "    </tr>\n",
              "  </thead>\n",
              "  <tbody>\n",
              "    <tr>\n",
              "      <th>0</th>\n",
              "      <td>Abuja</td>\n",
              "      <td>Honda</td>\n",
              "      <td>Accord Coupe EX V-6</td>\n",
              "      <td>2,011</td>\n",
              "      <td>Silver</td>\n",
              "      <td>2.2</td>\n",
              "      <td>Nigerian Used</td>\n",
              "      <td>NaN</td>\n",
              "    </tr>\n",
              "    <tr>\n",
              "      <th>1</th>\n",
              "      <td>Ibadan</td>\n",
              "      <td>Hyundai</td>\n",
              "      <td>Sonata</td>\n",
              "      <td>2,012</td>\n",
              "      <td>Silver</td>\n",
              "      <td>3.5</td>\n",
              "      <td>Nigerian Used</td>\n",
              "      <td>125,000</td>\n",
              "    </tr>\n",
              "    <tr>\n",
              "      <th>2</th>\n",
              "      <td>Lagos</td>\n",
              "      <td>Lexus</td>\n",
              "      <td>RX 350</td>\n",
              "      <td>2,010</td>\n",
              "      <td>Red</td>\n",
              "      <td>9.2</td>\n",
              "      <td>Foreign Used</td>\n",
              "      <td>110,852</td>\n",
              "    </tr>\n",
              "    <tr>\n",
              "      <th>3</th>\n",
              "      <td>Abuja</td>\n",
              "      <td>Mercedes-Benz</td>\n",
              "      <td>GLE-Class</td>\n",
              "      <td>2,017</td>\n",
              "      <td>Blue</td>\n",
              "      <td>22.8</td>\n",
              "      <td>Foreign Used</td>\n",
              "      <td>30,000</td>\n",
              "    </tr>\n",
              "    <tr>\n",
              "      <th>4</th>\n",
              "      <td>Ibadan</td>\n",
              "      <td>Toyota</td>\n",
              "      <td>Highlander</td>\n",
              "      <td>2,002</td>\n",
              "      <td>Red</td>\n",
              "      <td>2.6</td>\n",
              "      <td>Nigerian Used</td>\n",
              "      <td>125,206</td>\n",
              "    </tr>\n",
              "  </tbody>\n",
              "</table>\n",
              "</div>\n",
              "      <button class=\"colab-df-convert\" onclick=\"convertToInteractive('df-33c70a10-99fd-45f4-83f9-b7cf6c73d6d8')\"\n",
              "              title=\"Convert this dataframe to an interactive table.\"\n",
              "              style=\"display:none;\">\n",
              "        \n",
              "  <svg xmlns=\"http://www.w3.org/2000/svg\" height=\"24px\"viewBox=\"0 0 24 24\"\n",
              "       width=\"24px\">\n",
              "    <path d=\"M0 0h24v24H0V0z\" fill=\"none\"/>\n",
              "    <path d=\"M18.56 5.44l.94 2.06.94-2.06 2.06-.94-2.06-.94-.94-2.06-.94 2.06-2.06.94zm-11 1L8.5 8.5l.94-2.06 2.06-.94-2.06-.94L8.5 2.5l-.94 2.06-2.06.94zm10 10l.94 2.06.94-2.06 2.06-.94-2.06-.94-.94-2.06-.94 2.06-2.06.94z\"/><path d=\"M17.41 7.96l-1.37-1.37c-.4-.4-.92-.59-1.43-.59-.52 0-1.04.2-1.43.59L10.3 9.45l-7.72 7.72c-.78.78-.78 2.05 0 2.83L4 21.41c.39.39.9.59 1.41.59.51 0 1.02-.2 1.41-.59l7.78-7.78 2.81-2.81c.8-.78.8-2.07 0-2.86zM5.41 20L4 18.59l7.72-7.72 1.47 1.35L5.41 20z\"/>\n",
              "  </svg>\n",
              "      </button>\n",
              "      \n",
              "  <style>\n",
              "    .colab-df-container {\n",
              "      display:flex;\n",
              "      flex-wrap:wrap;\n",
              "      gap: 12px;\n",
              "    }\n",
              "\n",
              "    .colab-df-convert {\n",
              "      background-color: #E8F0FE;\n",
              "      border: none;\n",
              "      border-radius: 50%;\n",
              "      cursor: pointer;\n",
              "      display: none;\n",
              "      fill: #1967D2;\n",
              "      height: 32px;\n",
              "      padding: 0 0 0 0;\n",
              "      width: 32px;\n",
              "    }\n",
              "\n",
              "    .colab-df-convert:hover {\n",
              "      background-color: #E2EBFA;\n",
              "      box-shadow: 0px 1px 2px rgba(60, 64, 67, 0.3), 0px 1px 3px 1px rgba(60, 64, 67, 0.15);\n",
              "      fill: #174EA6;\n",
              "    }\n",
              "\n",
              "    [theme=dark] .colab-df-convert {\n",
              "      background-color: #3B4455;\n",
              "      fill: #D2E3FC;\n",
              "    }\n",
              "\n",
              "    [theme=dark] .colab-df-convert:hover {\n",
              "      background-color: #434B5C;\n",
              "      box-shadow: 0px 1px 3px 1px rgba(0, 0, 0, 0.15);\n",
              "      filter: drop-shadow(0px 1px 2px rgba(0, 0, 0, 0.3));\n",
              "      fill: #FFFFFF;\n",
              "    }\n",
              "  </style>\n",
              "\n",
              "      <script>\n",
              "        const buttonEl =\n",
              "          document.querySelector('#df-33c70a10-99fd-45f4-83f9-b7cf6c73d6d8 button.colab-df-convert');\n",
              "        buttonEl.style.display =\n",
              "          google.colab.kernel.accessAllowed ? 'block' : 'none';\n",
              "\n",
              "        async function convertToInteractive(key) {\n",
              "          const element = document.querySelector('#df-33c70a10-99fd-45f4-83f9-b7cf6c73d6d8');\n",
              "          const dataTable =\n",
              "            await google.colab.kernel.invokeFunction('convertToInteractive',\n",
              "                                                     [key], {});\n",
              "          if (!dataTable) return;\n",
              "\n",
              "          const docLinkHtml = 'Like what you see? Visit the ' +\n",
              "            '<a target=\"_blank\" href=https://colab.research.google.com/notebooks/data_table.ipynb>data table notebook</a>'\n",
              "            + ' to learn more about interactive tables.';\n",
              "          element.innerHTML = '';\n",
              "          dataTable['output_type'] = 'display_data';\n",
              "          await google.colab.output.renderOutput(dataTable, element);\n",
              "          const docLink = document.createElement('div');\n",
              "          docLink.innerHTML = docLinkHtml;\n",
              "          element.appendChild(docLink);\n",
              "        }\n",
              "      </script>\n",
              "    </div>\n",
              "  </div>\n",
              "  "
            ]
          },
          "metadata": {},
          "execution_count": 37
        }
      ]
    },
    {
      "cell_type": "code",
      "source": [
        "test.head()"
      ],
      "metadata": {
        "colab": {
          "base_uri": "https://localhost:8080/",
          "height": 206
        },
        "id": "bA9iUOidAeUy",
        "outputId": "c164c1a1-1a5a-4920-8e63-d0c5aa56e1b1"
      },
      "execution_count": null,
      "outputs": [
        {
          "output_type": "execute_result",
          "data": {
            "text/plain": [
              "  Location   Maker                  Model   Year Colour          Type  \\\n",
              "0    Abuja     BMW                   323i  2,008  White  Foreign Used   \n",
              "1    Lagos  Toyota                  Camry  2,013  White  Foreign Used   \n",
              "2    Lagos  Toyota  Highlander Limited V6  2,005   Gold  Foreign Used   \n",
              "3    Lagos  Toyota                  Camry  2,011   Gray  Foreign Used   \n",
              "4    Lagos   Lexus             ES 350 FWD  2,013    Red  Foreign Used   \n",
              "\n",
              "   Distance  \n",
              "0   30524.0  \n",
              "1       NaN  \n",
              "2       NaN  \n",
              "3  166839.0  \n",
              "4   88862.0  "
            ],
            "text/html": [
              "\n",
              "  <div id=\"df-d1c2e482-4ce9-48ea-a077-83dc3ce5eb12\">\n",
              "    <div class=\"colab-df-container\">\n",
              "      <div>\n",
              "<style scoped>\n",
              "    .dataframe tbody tr th:only-of-type {\n",
              "        vertical-align: middle;\n",
              "    }\n",
              "\n",
              "    .dataframe tbody tr th {\n",
              "        vertical-align: top;\n",
              "    }\n",
              "\n",
              "    .dataframe thead th {\n",
              "        text-align: right;\n",
              "    }\n",
              "</style>\n",
              "<table border=\"1\" class=\"dataframe\">\n",
              "  <thead>\n",
              "    <tr style=\"text-align: right;\">\n",
              "      <th></th>\n",
              "      <th>Location</th>\n",
              "      <th>Maker</th>\n",
              "      <th>Model</th>\n",
              "      <th>Year</th>\n",
              "      <th>Colour</th>\n",
              "      <th>Type</th>\n",
              "      <th>Distance</th>\n",
              "    </tr>\n",
              "  </thead>\n",
              "  <tbody>\n",
              "    <tr>\n",
              "      <th>0</th>\n",
              "      <td>Abuja</td>\n",
              "      <td>BMW</td>\n",
              "      <td>323i</td>\n",
              "      <td>2,008</td>\n",
              "      <td>White</td>\n",
              "      <td>Foreign Used</td>\n",
              "      <td>30524.0</td>\n",
              "    </tr>\n",
              "    <tr>\n",
              "      <th>1</th>\n",
              "      <td>Lagos</td>\n",
              "      <td>Toyota</td>\n",
              "      <td>Camry</td>\n",
              "      <td>2,013</td>\n",
              "      <td>White</td>\n",
              "      <td>Foreign Used</td>\n",
              "      <td>NaN</td>\n",
              "    </tr>\n",
              "    <tr>\n",
              "      <th>2</th>\n",
              "      <td>Lagos</td>\n",
              "      <td>Toyota</td>\n",
              "      <td>Highlander Limited V6</td>\n",
              "      <td>2,005</td>\n",
              "      <td>Gold</td>\n",
              "      <td>Foreign Used</td>\n",
              "      <td>NaN</td>\n",
              "    </tr>\n",
              "    <tr>\n",
              "      <th>3</th>\n",
              "      <td>Lagos</td>\n",
              "      <td>Toyota</td>\n",
              "      <td>Camry</td>\n",
              "      <td>2,011</td>\n",
              "      <td>Gray</td>\n",
              "      <td>Foreign Used</td>\n",
              "      <td>166839.0</td>\n",
              "    </tr>\n",
              "    <tr>\n",
              "      <th>4</th>\n",
              "      <td>Lagos</td>\n",
              "      <td>Lexus</td>\n",
              "      <td>ES 350 FWD</td>\n",
              "      <td>2,013</td>\n",
              "      <td>Red</td>\n",
              "      <td>Foreign Used</td>\n",
              "      <td>88862.0</td>\n",
              "    </tr>\n",
              "  </tbody>\n",
              "</table>\n",
              "</div>\n",
              "      <button class=\"colab-df-convert\" onclick=\"convertToInteractive('df-d1c2e482-4ce9-48ea-a077-83dc3ce5eb12')\"\n",
              "              title=\"Convert this dataframe to an interactive table.\"\n",
              "              style=\"display:none;\">\n",
              "        \n",
              "  <svg xmlns=\"http://www.w3.org/2000/svg\" height=\"24px\"viewBox=\"0 0 24 24\"\n",
              "       width=\"24px\">\n",
              "    <path d=\"M0 0h24v24H0V0z\" fill=\"none\"/>\n",
              "    <path d=\"M18.56 5.44l.94 2.06.94-2.06 2.06-.94-2.06-.94-.94-2.06-.94 2.06-2.06.94zm-11 1L8.5 8.5l.94-2.06 2.06-.94-2.06-.94L8.5 2.5l-.94 2.06-2.06.94zm10 10l.94 2.06.94-2.06 2.06-.94-2.06-.94-.94-2.06-.94 2.06-2.06.94z\"/><path d=\"M17.41 7.96l-1.37-1.37c-.4-.4-.92-.59-1.43-.59-.52 0-1.04.2-1.43.59L10.3 9.45l-7.72 7.72c-.78.78-.78 2.05 0 2.83L4 21.41c.39.39.9.59 1.41.59.51 0 1.02-.2 1.41-.59l7.78-7.78 2.81-2.81c.8-.78.8-2.07 0-2.86zM5.41 20L4 18.59l7.72-7.72 1.47 1.35L5.41 20z\"/>\n",
              "  </svg>\n",
              "      </button>\n",
              "      \n",
              "  <style>\n",
              "    .colab-df-container {\n",
              "      display:flex;\n",
              "      flex-wrap:wrap;\n",
              "      gap: 12px;\n",
              "    }\n",
              "\n",
              "    .colab-df-convert {\n",
              "      background-color: #E8F0FE;\n",
              "      border: none;\n",
              "      border-radius: 50%;\n",
              "      cursor: pointer;\n",
              "      display: none;\n",
              "      fill: #1967D2;\n",
              "      height: 32px;\n",
              "      padding: 0 0 0 0;\n",
              "      width: 32px;\n",
              "    }\n",
              "\n",
              "    .colab-df-convert:hover {\n",
              "      background-color: #E2EBFA;\n",
              "      box-shadow: 0px 1px 2px rgba(60, 64, 67, 0.3), 0px 1px 3px 1px rgba(60, 64, 67, 0.15);\n",
              "      fill: #174EA6;\n",
              "    }\n",
              "\n",
              "    [theme=dark] .colab-df-convert {\n",
              "      background-color: #3B4455;\n",
              "      fill: #D2E3FC;\n",
              "    }\n",
              "\n",
              "    [theme=dark] .colab-df-convert:hover {\n",
              "      background-color: #434B5C;\n",
              "      box-shadow: 0px 1px 3px 1px rgba(0, 0, 0, 0.15);\n",
              "      filter: drop-shadow(0px 1px 2px rgba(0, 0, 0, 0.3));\n",
              "      fill: #FFFFFF;\n",
              "    }\n",
              "  </style>\n",
              "\n",
              "      <script>\n",
              "        const buttonEl =\n",
              "          document.querySelector('#df-d1c2e482-4ce9-48ea-a077-83dc3ce5eb12 button.colab-df-convert');\n",
              "        buttonEl.style.display =\n",
              "          google.colab.kernel.accessAllowed ? 'block' : 'none';\n",
              "\n",
              "        async function convertToInteractive(key) {\n",
              "          const element = document.querySelector('#df-d1c2e482-4ce9-48ea-a077-83dc3ce5eb12');\n",
              "          const dataTable =\n",
              "            await google.colab.kernel.invokeFunction('convertToInteractive',\n",
              "                                                     [key], {});\n",
              "          if (!dataTable) return;\n",
              "\n",
              "          const docLinkHtml = 'Like what you see? Visit the ' +\n",
              "            '<a target=\"_blank\" href=https://colab.research.google.com/notebooks/data_table.ipynb>data table notebook</a>'\n",
              "            + ' to learn more about interactive tables.';\n",
              "          element.innerHTML = '';\n",
              "          dataTable['output_type'] = 'display_data';\n",
              "          await google.colab.output.renderOutput(dataTable, element);\n",
              "          const docLink = document.createElement('div');\n",
              "          docLink.innerHTML = docLinkHtml;\n",
              "          element.appendChild(docLink);\n",
              "        }\n",
              "      </script>\n",
              "    </div>\n",
              "  </div>\n",
              "  "
            ]
          },
          "metadata": {},
          "execution_count": 38
        }
      ]
    },
    {
      "cell_type": "code",
      "source": [
        "train.drop('Year', axis=1, inplace=True)"
      ],
      "metadata": {
        "id": "vjM0PeDJ8fhF"
      },
      "execution_count": null,
      "outputs": []
    },
    {
      "cell_type": "code",
      "source": [
        "test.drop('Year', axis=1, inplace=True)"
      ],
      "metadata": {
        "id": "pml0D7hQA4u_"
      },
      "execution_count": null,
      "outputs": []
    },
    {
      "cell_type": "code",
      "source": [
        "train.isnull().sum()"
      ],
      "metadata": {
        "colab": {
          "base_uri": "https://localhost:8080/"
        },
        "id": "HVQrVkXm3LxX",
        "outputId": "d3c71113-4247-4b93-de23-0ecdd3e244ee"
      },
      "execution_count": null,
      "outputs": [
        {
          "output_type": "execute_result",
          "data": {
            "text/plain": [
              "Location                     0\n",
              "Maker                        0\n",
              "Model                        0\n",
              "Colour                       0\n",
              "Amount (Million Naira)      17\n",
              "Type                         0\n",
              "Distance                  2360\n",
              "dtype: int64"
            ]
          },
          "metadata": {},
          "execution_count": 41
        }
      ]
    },
    {
      "cell_type": "code",
      "source": [
        "train.dropna(subset=['Amount (Million Naira)'],inplace=True)"
      ],
      "metadata": {
        "id": "xMNR4TmHIxCQ"
      },
      "execution_count": null,
      "outputs": []
    },
    {
      "cell_type": "code",
      "source": [
        "train.isnull().sum()"
      ],
      "metadata": {
        "colab": {
          "base_uri": "https://localhost:8080/"
        },
        "outputId": "ce66e884-7330-4611-f6c7-5ac7b0e7f6b3",
        "id": "99y3boOjJAj1"
      },
      "execution_count": null,
      "outputs": [
        {
          "output_type": "execute_result",
          "data": {
            "text/plain": [
              "Location                     0\n",
              "Maker                        0\n",
              "Model                        0\n",
              "Colour                       0\n",
              "Amount (Million Naira)       0\n",
              "Type                         0\n",
              "Distance                  2352\n",
              "dtype: int64"
            ]
          },
          "metadata": {},
          "execution_count": 43
        }
      ]
    },
    {
      "cell_type": "code",
      "source": [
        "test.isnull().sum()"
      ],
      "metadata": {
        "colab": {
          "base_uri": "https://localhost:8080/"
        },
        "id": "7s0QStBmA1i4",
        "outputId": "08ad9fa1-abfc-4fa1-f7b7-dfc95419ef81"
      },
      "execution_count": null,
      "outputs": [
        {
          "output_type": "execute_result",
          "data": {
            "text/plain": [
              "Location      0\n",
              "Maker         0\n",
              "Model         0\n",
              "Colour        0\n",
              "Type          0\n",
              "Distance    676\n",
              "dtype: int64"
            ]
          },
          "metadata": {},
          "execution_count": 44
        }
      ]
    },
    {
      "cell_type": "code",
      "source": [
        "# Label Encoding\n",
        "cat_features =['Location', 'Maker', 'Model', 'Colour', 'Type']\n",
        "\n",
        "for cat_feature in cat_features:\n",
        "  train[f\"{cat_feature}_cat\"] = train[cat_feature].astype('category')\n",
        "  train[f\"{cat_feature}_cat\"] = train[f\"{cat_feature}_cat\"].cat.codes\n",
        "\n",
        "train.head()"
      ],
      "metadata": {
        "colab": {
          "base_uri": "https://localhost:8080/",
          "height": 409
        },
        "id": "FceCnzjH8ym7",
        "outputId": "69697f56-d28c-4a34-bf59-2da93999b389"
      },
      "execution_count": null,
      "outputs": [
        {
          "output_type": "execute_result",
          "data": {
            "text/plain": [
              "  Location          Maker                Model  Colour  \\\n",
              "0    Abuja          Honda  Accord Coupe EX V-6  Silver   \n",
              "1   Ibadan        Hyundai               Sonata  Silver   \n",
              "2    Lagos          Lexus               RX 350     Red   \n",
              "3    Abuja  Mercedes-Benz            GLE-Class    Blue   \n",
              "4   Ibadan         Toyota           Highlander     Red   \n",
              "\n",
              "   Amount (Million Naira)           Type Distance  Location_cat  Maker_cat  \\\n",
              "0                     2.2  Nigerian Used      NaN             0         17   \n",
              "1                     3.5  Nigerian Used  125,000             1         19   \n",
              "2                     9.2   Foreign Used  110,852             2         29   \n",
              "3                    22.8   Foreign Used   30,000             0         34   \n",
              "4                     2.6  Nigerian Used  125,206             1         52   \n",
              "\n",
              "   Model_cat  Colour_cat  Type_cat  \n",
              "0        116          16         2  \n",
              "1       1047          16         2  \n",
              "2        906          15         1  \n",
              "3        506           2         1  \n",
              "4        567          15         2  "
            ],
            "text/html": [
              "\n",
              "  <div id=\"df-c3c7894d-57fb-4ef3-a250-a99ecf2dfe1b\">\n",
              "    <div class=\"colab-df-container\">\n",
              "      <div>\n",
              "<style scoped>\n",
              "    .dataframe tbody tr th:only-of-type {\n",
              "        vertical-align: middle;\n",
              "    }\n",
              "\n",
              "    .dataframe tbody tr th {\n",
              "        vertical-align: top;\n",
              "    }\n",
              "\n",
              "    .dataframe thead th {\n",
              "        text-align: right;\n",
              "    }\n",
              "</style>\n",
              "<table border=\"1\" class=\"dataframe\">\n",
              "  <thead>\n",
              "    <tr style=\"text-align: right;\">\n",
              "      <th></th>\n",
              "      <th>Location</th>\n",
              "      <th>Maker</th>\n",
              "      <th>Model</th>\n",
              "      <th>Colour</th>\n",
              "      <th>Amount (Million Naira)</th>\n",
              "      <th>Type</th>\n",
              "      <th>Distance</th>\n",
              "      <th>Location_cat</th>\n",
              "      <th>Maker_cat</th>\n",
              "      <th>Model_cat</th>\n",
              "      <th>Colour_cat</th>\n",
              "      <th>Type_cat</th>\n",
              "    </tr>\n",
              "  </thead>\n",
              "  <tbody>\n",
              "    <tr>\n",
              "      <th>0</th>\n",
              "      <td>Abuja</td>\n",
              "      <td>Honda</td>\n",
              "      <td>Accord Coupe EX V-6</td>\n",
              "      <td>Silver</td>\n",
              "      <td>2.2</td>\n",
              "      <td>Nigerian Used</td>\n",
              "      <td>NaN</td>\n",
              "      <td>0</td>\n",
              "      <td>17</td>\n",
              "      <td>116</td>\n",
              "      <td>16</td>\n",
              "      <td>2</td>\n",
              "    </tr>\n",
              "    <tr>\n",
              "      <th>1</th>\n",
              "      <td>Ibadan</td>\n",
              "      <td>Hyundai</td>\n",
              "      <td>Sonata</td>\n",
              "      <td>Silver</td>\n",
              "      <td>3.5</td>\n",
              "      <td>Nigerian Used</td>\n",
              "      <td>125,000</td>\n",
              "      <td>1</td>\n",
              "      <td>19</td>\n",
              "      <td>1047</td>\n",
              "      <td>16</td>\n",
              "      <td>2</td>\n",
              "    </tr>\n",
              "    <tr>\n",
              "      <th>2</th>\n",
              "      <td>Lagos</td>\n",
              "      <td>Lexus</td>\n",
              "      <td>RX 350</td>\n",
              "      <td>Red</td>\n",
              "      <td>9.2</td>\n",
              "      <td>Foreign Used</td>\n",
              "      <td>110,852</td>\n",
              "      <td>2</td>\n",
              "      <td>29</td>\n",
              "      <td>906</td>\n",
              "      <td>15</td>\n",
              "      <td>1</td>\n",
              "    </tr>\n",
              "    <tr>\n",
              "      <th>3</th>\n",
              "      <td>Abuja</td>\n",
              "      <td>Mercedes-Benz</td>\n",
              "      <td>GLE-Class</td>\n",
              "      <td>Blue</td>\n",
              "      <td>22.8</td>\n",
              "      <td>Foreign Used</td>\n",
              "      <td>30,000</td>\n",
              "      <td>0</td>\n",
              "      <td>34</td>\n",
              "      <td>506</td>\n",
              "      <td>2</td>\n",
              "      <td>1</td>\n",
              "    </tr>\n",
              "    <tr>\n",
              "      <th>4</th>\n",
              "      <td>Ibadan</td>\n",
              "      <td>Toyota</td>\n",
              "      <td>Highlander</td>\n",
              "      <td>Red</td>\n",
              "      <td>2.6</td>\n",
              "      <td>Nigerian Used</td>\n",
              "      <td>125,206</td>\n",
              "      <td>1</td>\n",
              "      <td>52</td>\n",
              "      <td>567</td>\n",
              "      <td>15</td>\n",
              "      <td>2</td>\n",
              "    </tr>\n",
              "  </tbody>\n",
              "</table>\n",
              "</div>\n",
              "      <button class=\"colab-df-convert\" onclick=\"convertToInteractive('df-c3c7894d-57fb-4ef3-a250-a99ecf2dfe1b')\"\n",
              "              title=\"Convert this dataframe to an interactive table.\"\n",
              "              style=\"display:none;\">\n",
              "        \n",
              "  <svg xmlns=\"http://www.w3.org/2000/svg\" height=\"24px\"viewBox=\"0 0 24 24\"\n",
              "       width=\"24px\">\n",
              "    <path d=\"M0 0h24v24H0V0z\" fill=\"none\"/>\n",
              "    <path d=\"M18.56 5.44l.94 2.06.94-2.06 2.06-.94-2.06-.94-.94-2.06-.94 2.06-2.06.94zm-11 1L8.5 8.5l.94-2.06 2.06-.94-2.06-.94L8.5 2.5l-.94 2.06-2.06.94zm10 10l.94 2.06.94-2.06 2.06-.94-2.06-.94-.94-2.06-.94 2.06-2.06.94z\"/><path d=\"M17.41 7.96l-1.37-1.37c-.4-.4-.92-.59-1.43-.59-.52 0-1.04.2-1.43.59L10.3 9.45l-7.72 7.72c-.78.78-.78 2.05 0 2.83L4 21.41c.39.39.9.59 1.41.59.51 0 1.02-.2 1.41-.59l7.78-7.78 2.81-2.81c.8-.78.8-2.07 0-2.86zM5.41 20L4 18.59l7.72-7.72 1.47 1.35L5.41 20z\"/>\n",
              "  </svg>\n",
              "      </button>\n",
              "      \n",
              "  <style>\n",
              "    .colab-df-container {\n",
              "      display:flex;\n",
              "      flex-wrap:wrap;\n",
              "      gap: 12px;\n",
              "    }\n",
              "\n",
              "    .colab-df-convert {\n",
              "      background-color: #E8F0FE;\n",
              "      border: none;\n",
              "      border-radius: 50%;\n",
              "      cursor: pointer;\n",
              "      display: none;\n",
              "      fill: #1967D2;\n",
              "      height: 32px;\n",
              "      padding: 0 0 0 0;\n",
              "      width: 32px;\n",
              "    }\n",
              "\n",
              "    .colab-df-convert:hover {\n",
              "      background-color: #E2EBFA;\n",
              "      box-shadow: 0px 1px 2px rgba(60, 64, 67, 0.3), 0px 1px 3px 1px rgba(60, 64, 67, 0.15);\n",
              "      fill: #174EA6;\n",
              "    }\n",
              "\n",
              "    [theme=dark] .colab-df-convert {\n",
              "      background-color: #3B4455;\n",
              "      fill: #D2E3FC;\n",
              "    }\n",
              "\n",
              "    [theme=dark] .colab-df-convert:hover {\n",
              "      background-color: #434B5C;\n",
              "      box-shadow: 0px 1px 3px 1px rgba(0, 0, 0, 0.15);\n",
              "      filter: drop-shadow(0px 1px 2px rgba(0, 0, 0, 0.3));\n",
              "      fill: #FFFFFF;\n",
              "    }\n",
              "  </style>\n",
              "\n",
              "      <script>\n",
              "        const buttonEl =\n",
              "          document.querySelector('#df-c3c7894d-57fb-4ef3-a250-a99ecf2dfe1b button.colab-df-convert');\n",
              "        buttonEl.style.display =\n",
              "          google.colab.kernel.accessAllowed ? 'block' : 'none';\n",
              "\n",
              "        async function convertToInteractive(key) {\n",
              "          const element = document.querySelector('#df-c3c7894d-57fb-4ef3-a250-a99ecf2dfe1b');\n",
              "          const dataTable =\n",
              "            await google.colab.kernel.invokeFunction('convertToInteractive',\n",
              "                                                     [key], {});\n",
              "          if (!dataTable) return;\n",
              "\n",
              "          const docLinkHtml = 'Like what you see? Visit the ' +\n",
              "            '<a target=\"_blank\" href=https://colab.research.google.com/notebooks/data_table.ipynb>data table notebook</a>'\n",
              "            + ' to learn more about interactive tables.';\n",
              "          element.innerHTML = '';\n",
              "          dataTable['output_type'] = 'display_data';\n",
              "          await google.colab.output.renderOutput(dataTable, element);\n",
              "          const docLink = document.createElement('div');\n",
              "          docLink.innerHTML = docLinkHtml;\n",
              "          element.appendChild(docLink);\n",
              "        }\n",
              "      </script>\n",
              "    </div>\n",
              "  </div>\n",
              "  "
            ]
          },
          "metadata": {},
          "execution_count": 45
        }
      ]
    },
    {
      "cell_type": "code",
      "source": [
        "# Label Encoding\n",
        "cat_featurez =['Location', 'Maker', 'Model', 'Colour', 'Type']\n",
        "\n",
        "for cat_feat in cat_featurez:\n",
        "  test[f\"{cat_feat}_cat\"] = test[cat_feat].astype('category')\n",
        "  test[f\"{cat_feat}_cat\"] = test[f\"{cat_feat}_cat\"].cat.codes\n",
        "\n",
        "test.head()"
      ],
      "metadata": {
        "colab": {
          "base_uri": "https://localhost:8080/",
          "height": 337
        },
        "id": "BX-7LvwtPz7w",
        "outputId": "0ac5fa8f-5709-44ad-dad5-7687fba01fc0"
      },
      "execution_count": null,
      "outputs": [
        {
          "output_type": "execute_result",
          "data": {
            "text/plain": [
              "  Location   Maker                  Model Colour          Type  Distance  \\\n",
              "0    Abuja     BMW                   323i  White  Foreign Used   30524.0   \n",
              "1    Lagos  Toyota                  Camry  White  Foreign Used       NaN   \n",
              "2    Lagos  Toyota  Highlander Limited V6   Gold  Foreign Used       NaN   \n",
              "3    Lagos  Toyota                  Camry   Gray  Foreign Used  166839.0   \n",
              "4    Lagos   Lexus             ES 350 FWD    Red  Foreign Used   88862.0   \n",
              "\n",
              "   Location_cat  Maker_cat  Model_cat  Colour_cat  Type_cat  \n",
              "0             0          2          8          16         1  \n",
              "1             2         37        123          16         1  \n",
              "2             2         37        272           7         1  \n",
              "3             2         37        123           8         1  \n",
              "4             2         20        192          12         1  "
            ],
            "text/html": [
              "\n",
              "  <div id=\"df-c2b88118-2319-403a-93e7-74708c8177b3\">\n",
              "    <div class=\"colab-df-container\">\n",
              "      <div>\n",
              "<style scoped>\n",
              "    .dataframe tbody tr th:only-of-type {\n",
              "        vertical-align: middle;\n",
              "    }\n",
              "\n",
              "    .dataframe tbody tr th {\n",
              "        vertical-align: top;\n",
              "    }\n",
              "\n",
              "    .dataframe thead th {\n",
              "        text-align: right;\n",
              "    }\n",
              "</style>\n",
              "<table border=\"1\" class=\"dataframe\">\n",
              "  <thead>\n",
              "    <tr style=\"text-align: right;\">\n",
              "      <th></th>\n",
              "      <th>Location</th>\n",
              "      <th>Maker</th>\n",
              "      <th>Model</th>\n",
              "      <th>Colour</th>\n",
              "      <th>Type</th>\n",
              "      <th>Distance</th>\n",
              "      <th>Location_cat</th>\n",
              "      <th>Maker_cat</th>\n",
              "      <th>Model_cat</th>\n",
              "      <th>Colour_cat</th>\n",
              "      <th>Type_cat</th>\n",
              "    </tr>\n",
              "  </thead>\n",
              "  <tbody>\n",
              "    <tr>\n",
              "      <th>0</th>\n",
              "      <td>Abuja</td>\n",
              "      <td>BMW</td>\n",
              "      <td>323i</td>\n",
              "      <td>White</td>\n",
              "      <td>Foreign Used</td>\n",
              "      <td>30524.0</td>\n",
              "      <td>0</td>\n",
              "      <td>2</td>\n",
              "      <td>8</td>\n",
              "      <td>16</td>\n",
              "      <td>1</td>\n",
              "    </tr>\n",
              "    <tr>\n",
              "      <th>1</th>\n",
              "      <td>Lagos</td>\n",
              "      <td>Toyota</td>\n",
              "      <td>Camry</td>\n",
              "      <td>White</td>\n",
              "      <td>Foreign Used</td>\n",
              "      <td>NaN</td>\n",
              "      <td>2</td>\n",
              "      <td>37</td>\n",
              "      <td>123</td>\n",
              "      <td>16</td>\n",
              "      <td>1</td>\n",
              "    </tr>\n",
              "    <tr>\n",
              "      <th>2</th>\n",
              "      <td>Lagos</td>\n",
              "      <td>Toyota</td>\n",
              "      <td>Highlander Limited V6</td>\n",
              "      <td>Gold</td>\n",
              "      <td>Foreign Used</td>\n",
              "      <td>NaN</td>\n",
              "      <td>2</td>\n",
              "      <td>37</td>\n",
              "      <td>272</td>\n",
              "      <td>7</td>\n",
              "      <td>1</td>\n",
              "    </tr>\n",
              "    <tr>\n",
              "      <th>3</th>\n",
              "      <td>Lagos</td>\n",
              "      <td>Toyota</td>\n",
              "      <td>Camry</td>\n",
              "      <td>Gray</td>\n",
              "      <td>Foreign Used</td>\n",
              "      <td>166839.0</td>\n",
              "      <td>2</td>\n",
              "      <td>37</td>\n",
              "      <td>123</td>\n",
              "      <td>8</td>\n",
              "      <td>1</td>\n",
              "    </tr>\n",
              "    <tr>\n",
              "      <th>4</th>\n",
              "      <td>Lagos</td>\n",
              "      <td>Lexus</td>\n",
              "      <td>ES 350 FWD</td>\n",
              "      <td>Red</td>\n",
              "      <td>Foreign Used</td>\n",
              "      <td>88862.0</td>\n",
              "      <td>2</td>\n",
              "      <td>20</td>\n",
              "      <td>192</td>\n",
              "      <td>12</td>\n",
              "      <td>1</td>\n",
              "    </tr>\n",
              "  </tbody>\n",
              "</table>\n",
              "</div>\n",
              "      <button class=\"colab-df-convert\" onclick=\"convertToInteractive('df-c2b88118-2319-403a-93e7-74708c8177b3')\"\n",
              "              title=\"Convert this dataframe to an interactive table.\"\n",
              "              style=\"display:none;\">\n",
              "        \n",
              "  <svg xmlns=\"http://www.w3.org/2000/svg\" height=\"24px\"viewBox=\"0 0 24 24\"\n",
              "       width=\"24px\">\n",
              "    <path d=\"M0 0h24v24H0V0z\" fill=\"none\"/>\n",
              "    <path d=\"M18.56 5.44l.94 2.06.94-2.06 2.06-.94-2.06-.94-.94-2.06-.94 2.06-2.06.94zm-11 1L8.5 8.5l.94-2.06 2.06-.94-2.06-.94L8.5 2.5l-.94 2.06-2.06.94zm10 10l.94 2.06.94-2.06 2.06-.94-2.06-.94-.94-2.06-.94 2.06-2.06.94z\"/><path d=\"M17.41 7.96l-1.37-1.37c-.4-.4-.92-.59-1.43-.59-.52 0-1.04.2-1.43.59L10.3 9.45l-7.72 7.72c-.78.78-.78 2.05 0 2.83L4 21.41c.39.39.9.59 1.41.59.51 0 1.02-.2 1.41-.59l7.78-7.78 2.81-2.81c.8-.78.8-2.07 0-2.86zM5.41 20L4 18.59l7.72-7.72 1.47 1.35L5.41 20z\"/>\n",
              "  </svg>\n",
              "      </button>\n",
              "      \n",
              "  <style>\n",
              "    .colab-df-container {\n",
              "      display:flex;\n",
              "      flex-wrap:wrap;\n",
              "      gap: 12px;\n",
              "    }\n",
              "\n",
              "    .colab-df-convert {\n",
              "      background-color: #E8F0FE;\n",
              "      border: none;\n",
              "      border-radius: 50%;\n",
              "      cursor: pointer;\n",
              "      display: none;\n",
              "      fill: #1967D2;\n",
              "      height: 32px;\n",
              "      padding: 0 0 0 0;\n",
              "      width: 32px;\n",
              "    }\n",
              "\n",
              "    .colab-df-convert:hover {\n",
              "      background-color: #E2EBFA;\n",
              "      box-shadow: 0px 1px 2px rgba(60, 64, 67, 0.3), 0px 1px 3px 1px rgba(60, 64, 67, 0.15);\n",
              "      fill: #174EA6;\n",
              "    }\n",
              "\n",
              "    [theme=dark] .colab-df-convert {\n",
              "      background-color: #3B4455;\n",
              "      fill: #D2E3FC;\n",
              "    }\n",
              "\n",
              "    [theme=dark] .colab-df-convert:hover {\n",
              "      background-color: #434B5C;\n",
              "      box-shadow: 0px 1px 3px 1px rgba(0, 0, 0, 0.15);\n",
              "      filter: drop-shadow(0px 1px 2px rgba(0, 0, 0, 0.3));\n",
              "      fill: #FFFFFF;\n",
              "    }\n",
              "  </style>\n",
              "\n",
              "      <script>\n",
              "        const buttonEl =\n",
              "          document.querySelector('#df-c2b88118-2319-403a-93e7-74708c8177b3 button.colab-df-convert');\n",
              "        buttonEl.style.display =\n",
              "          google.colab.kernel.accessAllowed ? 'block' : 'none';\n",
              "\n",
              "        async function convertToInteractive(key) {\n",
              "          const element = document.querySelector('#df-c2b88118-2319-403a-93e7-74708c8177b3');\n",
              "          const dataTable =\n",
              "            await google.colab.kernel.invokeFunction('convertToInteractive',\n",
              "                                                     [key], {});\n",
              "          if (!dataTable) return;\n",
              "\n",
              "          const docLinkHtml = 'Like what you see? Visit the ' +\n",
              "            '<a target=\"_blank\" href=https://colab.research.google.com/notebooks/data_table.ipynb>data table notebook</a>'\n",
              "            + ' to learn more about interactive tables.';\n",
              "          element.innerHTML = '';\n",
              "          dataTable['output_type'] = 'display_data';\n",
              "          await google.colab.output.renderOutput(dataTable, element);\n",
              "          const docLink = document.createElement('div');\n",
              "          docLink.innerHTML = docLinkHtml;\n",
              "          element.appendChild(docLink);\n",
              "        }\n",
              "      </script>\n",
              "    </div>\n",
              "  </div>\n",
              "  "
            ]
          },
          "metadata": {},
          "execution_count": 46
        }
      ]
    },
    {
      "cell_type": "code",
      "source": [
        "# Drop the reductant features since Label encoding have been done\n",
        "train.drop(['Location', 'Maker', 'Model', 'Colour', 'Type'], axis=1, inplace=True)\n",
        "train.head()\n",
        "train.info()#Check if there are only int and floats"
      ],
      "metadata": {
        "colab": {
          "base_uri": "https://localhost:8080/"
        },
        "id": "VET-QF4_9NYo",
        "outputId": "068fb19a-8d08-4795-820b-2ace272867e9"
      },
      "execution_count": null,
      "outputs": [
        {
          "output_type": "stream",
          "name": "stdout",
          "text": [
            "<class 'pandas.core.frame.DataFrame'>\n",
            "Int64Index: 7188 entries, 0 to 7204\n",
            "Data columns (total 7 columns):\n",
            " #   Column                  Non-Null Count  Dtype  \n",
            "---  ------                  --------------  -----  \n",
            " 0   Amount (Million Naira)  7188 non-null   float64\n",
            " 1   Distance                4836 non-null   object \n",
            " 2   Location_cat            7188 non-null   int8   \n",
            " 3   Maker_cat               7188 non-null   int8   \n",
            " 4   Model_cat               7188 non-null   int16  \n",
            " 5   Colour_cat              7188 non-null   int8   \n",
            " 6   Type_cat                7188 non-null   int8   \n",
            "dtypes: float64(1), int16(1), int8(4), object(1)\n",
            "memory usage: 210.6+ KB\n"
          ]
        }
      ]
    },
    {
      "cell_type": "code",
      "source": [
        "# Drop the reductant features since Label encoding have been done\n",
        "test.drop(['Location', 'Maker', 'Model', 'Colour', 'Type'], axis=1, inplace=True)\n",
        "test.head()\n",
        "test.info()#Check if there are only int and floats"
      ],
      "metadata": {
        "colab": {
          "base_uri": "https://localhost:8080/"
        },
        "id": "RjbPEskBQItH",
        "outputId": "a08c1bac-7307-483d-e322-bba9016abf5a"
      },
      "execution_count": null,
      "outputs": [
        {
          "output_type": "stream",
          "name": "stdout",
          "text": [
            "<class 'pandas.core.frame.DataFrame'>\n",
            "RangeIndex: 2061 entries, 0 to 2060\n",
            "Data columns (total 6 columns):\n",
            " #   Column        Non-Null Count  Dtype  \n",
            "---  ------        --------------  -----  \n",
            " 0   Distance      1385 non-null   float64\n",
            " 1   Location_cat  2061 non-null   int8   \n",
            " 2   Maker_cat     2061 non-null   int8   \n",
            " 3   Model_cat     2061 non-null   int16  \n",
            " 4   Colour_cat    2061 non-null   int8   \n",
            " 5   Type_cat      2061 non-null   int8   \n",
            "dtypes: float64(1), int16(1), int8(4)\n",
            "memory usage: 28.3 KB\n"
          ]
        }
      ]
    },
    {
      "cell_type": "code",
      "source": [
        "y = train[\"Amount (Million Naira)\"]  # Target\n",
        "\n",
        "x = train.drop(\"Amount (Million Naira)\", axis=1)"
      ],
      "metadata": {
        "id": "NaWOOhAY9hJE"
      },
      "execution_count": null,
      "outputs": []
    },
    {
      "cell_type": "code",
      "source": [
        "x_train, x_test, y_train, y_test = train_test_split(x, y, test_size=0.3 , random_state =42)"
      ],
      "metadata": {
        "id": "Rwf3rpOdFtlZ"
      },
      "execution_count": null,
      "outputs": []
    },
    {
      "cell_type": "markdown",
      "source": [
        "# Train your model"
      ],
      "metadata": {
        "id": "d4I4x0rHFw-U"
      }
    },
    {
      "cell_type": "code",
      "source": [
        "from sklearn.linear_model import LinearRegression\n",
        "\n",
        "reg = LinearRegression()\n",
        "reg.fit(x_train, y_train)"
      ],
      "metadata": {
        "colab": {
          "base_uri": "https://localhost:8080/",
          "height": 353
        },
        "id": "Nmvir02pFyXv",
        "outputId": "9e0761cb-c2be-4be8-d9d3-7a2ec6630581"
      },
      "execution_count": null,
      "outputs": [
        {
          "output_type": "error",
          "ename": "ValueError",
          "evalue": "ignored",
          "traceback": [
            "\u001b[0;31m---------------------------------------------------------------------------\u001b[0m",
            "\u001b[0;31mValueError\u001b[0m                                Traceback (most recent call last)",
            "\u001b[0;32m<ipython-input-52-6ce39578f2d7>\u001b[0m in \u001b[0;36m<module>\u001b[0;34m()\u001b[0m\n\u001b[1;32m      2\u001b[0m \u001b[0;34m\u001b[0m\u001b[0m\n\u001b[1;32m      3\u001b[0m \u001b[0mreg\u001b[0m \u001b[0;34m=\u001b[0m \u001b[0mLinearRegression\u001b[0m\u001b[0;34m(\u001b[0m\u001b[0;34m)\u001b[0m\u001b[0;34m\u001b[0m\u001b[0;34m\u001b[0m\u001b[0m\n\u001b[0;32m----> 4\u001b[0;31m \u001b[0mreg\u001b[0m\u001b[0;34m.\u001b[0m\u001b[0mfit\u001b[0m\u001b[0;34m(\u001b[0m\u001b[0mx_train\u001b[0m\u001b[0;34m,\u001b[0m \u001b[0my_train\u001b[0m\u001b[0;34m)\u001b[0m\u001b[0;34m\u001b[0m\u001b[0;34m\u001b[0m\u001b[0m\n\u001b[0m",
            "\u001b[0;32m/usr/local/lib/python3.7/dist-packages/sklearn/linear_model/_base.py\u001b[0m in \u001b[0;36mfit\u001b[0;34m(self, X, y, sample_weight)\u001b[0m\n\u001b[1;32m    661\u001b[0m \u001b[0;34m\u001b[0m\u001b[0m\n\u001b[1;32m    662\u001b[0m         X, y = self._validate_data(\n\u001b[0;32m--> 663\u001b[0;31m             \u001b[0mX\u001b[0m\u001b[0;34m,\u001b[0m \u001b[0my\u001b[0m\u001b[0;34m,\u001b[0m \u001b[0maccept_sparse\u001b[0m\u001b[0;34m=\u001b[0m\u001b[0maccept_sparse\u001b[0m\u001b[0;34m,\u001b[0m \u001b[0my_numeric\u001b[0m\u001b[0;34m=\u001b[0m\u001b[0;32mTrue\u001b[0m\u001b[0;34m,\u001b[0m \u001b[0mmulti_output\u001b[0m\u001b[0;34m=\u001b[0m\u001b[0;32mTrue\u001b[0m\u001b[0;34m\u001b[0m\u001b[0;34m\u001b[0m\u001b[0m\n\u001b[0m\u001b[1;32m    664\u001b[0m         )\n\u001b[1;32m    665\u001b[0m \u001b[0;34m\u001b[0m\u001b[0m\n",
            "\u001b[0;32m/usr/local/lib/python3.7/dist-packages/sklearn/base.py\u001b[0m in \u001b[0;36m_validate_data\u001b[0;34m(self, X, y, reset, validate_separately, **check_params)\u001b[0m\n\u001b[1;32m    579\u001b[0m                 \u001b[0my\u001b[0m \u001b[0;34m=\u001b[0m \u001b[0mcheck_array\u001b[0m\u001b[0;34m(\u001b[0m\u001b[0my\u001b[0m\u001b[0;34m,\u001b[0m \u001b[0;34m**\u001b[0m\u001b[0mcheck_y_params\u001b[0m\u001b[0;34m)\u001b[0m\u001b[0;34m\u001b[0m\u001b[0;34m\u001b[0m\u001b[0m\n\u001b[1;32m    580\u001b[0m             \u001b[0;32melse\u001b[0m\u001b[0;34m:\u001b[0m\u001b[0;34m\u001b[0m\u001b[0;34m\u001b[0m\u001b[0m\n\u001b[0;32m--> 581\u001b[0;31m                 \u001b[0mX\u001b[0m\u001b[0;34m,\u001b[0m \u001b[0my\u001b[0m \u001b[0;34m=\u001b[0m \u001b[0mcheck_X_y\u001b[0m\u001b[0;34m(\u001b[0m\u001b[0mX\u001b[0m\u001b[0;34m,\u001b[0m \u001b[0my\u001b[0m\u001b[0;34m,\u001b[0m \u001b[0;34m**\u001b[0m\u001b[0mcheck_params\u001b[0m\u001b[0;34m)\u001b[0m\u001b[0;34m\u001b[0m\u001b[0;34m\u001b[0m\u001b[0m\n\u001b[0m\u001b[1;32m    582\u001b[0m             \u001b[0mout\u001b[0m \u001b[0;34m=\u001b[0m \u001b[0mX\u001b[0m\u001b[0;34m,\u001b[0m \u001b[0my\u001b[0m\u001b[0;34m\u001b[0m\u001b[0;34m\u001b[0m\u001b[0m\n\u001b[1;32m    583\u001b[0m \u001b[0;34m\u001b[0m\u001b[0m\n",
            "\u001b[0;32m/usr/local/lib/python3.7/dist-packages/sklearn/utils/validation.py\u001b[0m in \u001b[0;36mcheck_X_y\u001b[0;34m(X, y, accept_sparse, accept_large_sparse, dtype, order, copy, force_all_finite, ensure_2d, allow_nd, multi_output, ensure_min_samples, ensure_min_features, y_numeric, estimator)\u001b[0m\n\u001b[1;32m    974\u001b[0m         \u001b[0mensure_min_samples\u001b[0m\u001b[0;34m=\u001b[0m\u001b[0mensure_min_samples\u001b[0m\u001b[0;34m,\u001b[0m\u001b[0;34m\u001b[0m\u001b[0;34m\u001b[0m\u001b[0m\n\u001b[1;32m    975\u001b[0m         \u001b[0mensure_min_features\u001b[0m\u001b[0;34m=\u001b[0m\u001b[0mensure_min_features\u001b[0m\u001b[0;34m,\u001b[0m\u001b[0;34m\u001b[0m\u001b[0;34m\u001b[0m\u001b[0m\n\u001b[0;32m--> 976\u001b[0;31m         \u001b[0mestimator\u001b[0m\u001b[0;34m=\u001b[0m\u001b[0mestimator\u001b[0m\u001b[0;34m,\u001b[0m\u001b[0;34m\u001b[0m\u001b[0;34m\u001b[0m\u001b[0m\n\u001b[0m\u001b[1;32m    977\u001b[0m     )\n\u001b[1;32m    978\u001b[0m \u001b[0;34m\u001b[0m\u001b[0m\n",
            "\u001b[0;32m/usr/local/lib/python3.7/dist-packages/sklearn/utils/validation.py\u001b[0m in \u001b[0;36mcheck_array\u001b[0;34m(array, accept_sparse, accept_large_sparse, dtype, order, copy, force_all_finite, ensure_2d, allow_nd, ensure_min_samples, ensure_min_features, estimator)\u001b[0m\n\u001b[1;32m    744\u001b[0m                     \u001b[0marray\u001b[0m \u001b[0;34m=\u001b[0m \u001b[0marray\u001b[0m\u001b[0;34m.\u001b[0m\u001b[0mastype\u001b[0m\u001b[0;34m(\u001b[0m\u001b[0mdtype\u001b[0m\u001b[0;34m,\u001b[0m \u001b[0mcasting\u001b[0m\u001b[0;34m=\u001b[0m\u001b[0;34m\"unsafe\"\u001b[0m\u001b[0;34m,\u001b[0m \u001b[0mcopy\u001b[0m\u001b[0;34m=\u001b[0m\u001b[0;32mFalse\u001b[0m\u001b[0;34m)\u001b[0m\u001b[0;34m\u001b[0m\u001b[0;34m\u001b[0m\u001b[0m\n\u001b[1;32m    745\u001b[0m                 \u001b[0;32melse\u001b[0m\u001b[0;34m:\u001b[0m\u001b[0;34m\u001b[0m\u001b[0;34m\u001b[0m\u001b[0m\n\u001b[0;32m--> 746\u001b[0;31m                     \u001b[0marray\u001b[0m \u001b[0;34m=\u001b[0m \u001b[0mnp\u001b[0m\u001b[0;34m.\u001b[0m\u001b[0masarray\u001b[0m\u001b[0;34m(\u001b[0m\u001b[0marray\u001b[0m\u001b[0;34m,\u001b[0m \u001b[0morder\u001b[0m\u001b[0;34m=\u001b[0m\u001b[0morder\u001b[0m\u001b[0;34m,\u001b[0m \u001b[0mdtype\u001b[0m\u001b[0;34m=\u001b[0m\u001b[0mdtype\u001b[0m\u001b[0;34m)\u001b[0m\u001b[0;34m\u001b[0m\u001b[0;34m\u001b[0m\u001b[0m\n\u001b[0m\u001b[1;32m    747\u001b[0m             \u001b[0;32mexcept\u001b[0m \u001b[0mComplexWarning\u001b[0m \u001b[0;32mas\u001b[0m \u001b[0mcomplex_warning\u001b[0m\u001b[0;34m:\u001b[0m\u001b[0;34m\u001b[0m\u001b[0;34m\u001b[0m\u001b[0m\n\u001b[1;32m    748\u001b[0m                 raise ValueError(\n",
            "\u001b[0;32m/usr/local/lib/python3.7/dist-packages/pandas/core/generic.py\u001b[0m in \u001b[0;36m__array__\u001b[0;34m(self, dtype)\u001b[0m\n\u001b[1;32m   1991\u001b[0m \u001b[0;34m\u001b[0m\u001b[0m\n\u001b[1;32m   1992\u001b[0m     \u001b[0;32mdef\u001b[0m \u001b[0m__array__\u001b[0m\u001b[0;34m(\u001b[0m\u001b[0mself\u001b[0m\u001b[0;34m,\u001b[0m \u001b[0mdtype\u001b[0m\u001b[0;34m:\u001b[0m \u001b[0mNpDtype\u001b[0m \u001b[0;34m|\u001b[0m \u001b[0;32mNone\u001b[0m \u001b[0;34m=\u001b[0m \u001b[0;32mNone\u001b[0m\u001b[0;34m)\u001b[0m \u001b[0;34m->\u001b[0m \u001b[0mnp\u001b[0m\u001b[0;34m.\u001b[0m\u001b[0mndarray\u001b[0m\u001b[0;34m:\u001b[0m\u001b[0;34m\u001b[0m\u001b[0;34m\u001b[0m\u001b[0m\n\u001b[0;32m-> 1993\u001b[0;31m         \u001b[0;32mreturn\u001b[0m \u001b[0mnp\u001b[0m\u001b[0;34m.\u001b[0m\u001b[0masarray\u001b[0m\u001b[0;34m(\u001b[0m\u001b[0mself\u001b[0m\u001b[0;34m.\u001b[0m\u001b[0m_values\u001b[0m\u001b[0;34m,\u001b[0m \u001b[0mdtype\u001b[0m\u001b[0;34m=\u001b[0m\u001b[0mdtype\u001b[0m\u001b[0;34m)\u001b[0m\u001b[0;34m\u001b[0m\u001b[0;34m\u001b[0m\u001b[0m\n\u001b[0m\u001b[1;32m   1994\u001b[0m \u001b[0;34m\u001b[0m\u001b[0m\n\u001b[1;32m   1995\u001b[0m     def __array_wrap__(\n",
            "\u001b[0;31mValueError\u001b[0m: could not convert string to float: '120,000'"
          ]
        }
      ]
    },
    {
      "cell_type": "markdown",
      "source": [
        "# Evaluate your model"
      ],
      "metadata": {
        "id": "pBqdgRHfMWNb"
      }
    },
    {
      "cell_type": "code",
      "source": [
        "from sklearn.metrics import mean_squared_error\n",
        "\n",
        "# we are using mean_squared_error because \n",
        "# this is a regression model\n",
        "\n",
        "y_pred = reg.predict(x_test)\n",
        "\n",
        "print(\"MSE\",mean_squared_error(y_test,y_pred))"
      ],
      "metadata": {
        "id": "Ka2cCkGFMVMG"
      },
      "execution_count": null,
      "outputs": []
    },
    {
      "cell_type": "markdown",
      "source": [
        "# SUBMISSION MODE"
      ],
      "metadata": {
        "id": "gsCoyD36NXDY"
      }
    },
    {
      "cell_type": "code",
      "source": [
        "answers = reg.predict(test)"
      ],
      "metadata": {
        "id": "gVWfJ8mgNbu9"
      },
      "execution_count": null,
      "outputs": []
    },
    {
      "cell_type": "code",
      "source": [
        "my_sub = pd.read_csv(\"/content/drive/MyDrive/free-ai-classes-in-every-city-hackathon/Test.csv\")"
      ],
      "metadata": {
        "id": "TPeoR2yBN4hr"
      },
      "execution_count": null,
      "outputs": []
    },
    {
      "cell_type": "code",
      "source": [
        "my_sub_id = my_sub['VehicleID']\n",
        "submit = pd.DataFrame(my_sub_id)\n",
        "submit.head()"
      ],
      "metadata": {
        "id": "D_i6Feh6OHnw"
      },
      "execution_count": null,
      "outputs": []
    },
    {
      "cell_type": "code",
      "source": [
        "submit[\"Amount (Million Naira)\"] = answers"
      ],
      "metadata": {
        "id": "P6TUMD6_RcPn"
      },
      "execution_count": null,
      "outputs": []
    },
    {
      "cell_type": "code",
      "source": [
        "submit.tail()"
      ],
      "metadata": {
        "id": "SRM_huS5Ri4b"
      },
      "execution_count": null,
      "outputs": []
    },
    {
      "cell_type": "code",
      "source": [
        "submit.to_csv(\"second_submisson_GPU.csv\", index=False)"
      ],
      "metadata": {
        "id": "KXPzf9-oRrEg"
      },
      "execution_count": null,
      "outputs": []
    }
  ]
}